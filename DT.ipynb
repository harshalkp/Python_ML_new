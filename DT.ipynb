{
 "cells": [
  {
   "cell_type": "code",
   "execution_count": 1,
   "metadata": {},
   "outputs": [],
   "source": [
    "import numpy as np\n",
    "import pandas as pd\n",
    "import seaborn as sns\n",
    "import matplotlib.pyplot as plt\n",
    "\n",
    "from sklearn.linear_model import LogisticRegression\n",
    "from sklearn.model_selection import train_test_split\n",
    "from sklearn.metrics import classification_report\n",
    "\n",
    "import warnings\n",
    "\n",
    "warnings.filterwarnings('ignore')"
   ]
  },
  {
   "cell_type": "code",
   "execution_count": 2,
   "metadata": {},
   "outputs": [],
   "source": [
    "df = pd.read_csv(\"bank.csv\")"
   ]
  },
  {
   "cell_type": "code",
   "execution_count": 3,
   "metadata": {},
   "outputs": [
    {
     "data": {
      "text/html": [
       "<div>\n",
       "<style scoped>\n",
       "    .dataframe tbody tr th:only-of-type {\n",
       "        vertical-align: middle;\n",
       "    }\n",
       "\n",
       "    .dataframe tbody tr th {\n",
       "        vertical-align: top;\n",
       "    }\n",
       "\n",
       "    .dataframe thead th {\n",
       "        text-align: right;\n",
       "    }\n",
       "</style>\n",
       "<table border=\"1\" class=\"dataframe\">\n",
       "  <thead>\n",
       "    <tr style=\"text-align: right;\">\n",
       "      <th></th>\n",
       "      <th>age</th>\n",
       "      <th>job</th>\n",
       "      <th>marital</th>\n",
       "      <th>education</th>\n",
       "      <th>default</th>\n",
       "      <th>balance</th>\n",
       "      <th>housing</th>\n",
       "      <th>loan</th>\n",
       "      <th>contact</th>\n",
       "      <th>day</th>\n",
       "      <th>month</th>\n",
       "      <th>duration</th>\n",
       "      <th>campaign</th>\n",
       "      <th>pdays</th>\n",
       "      <th>previous</th>\n",
       "      <th>poutcome</th>\n",
       "      <th>deposit</th>\n",
       "    </tr>\n",
       "  </thead>\n",
       "  <tbody>\n",
       "    <tr>\n",
       "      <td>0</td>\n",
       "      <td>59</td>\n",
       "      <td>0</td>\n",
       "      <td>1</td>\n",
       "      <td>1</td>\n",
       "      <td>0</td>\n",
       "      <td>2343</td>\n",
       "      <td>1</td>\n",
       "      <td>0</td>\n",
       "      <td>2</td>\n",
       "      <td>5</td>\n",
       "      <td>8</td>\n",
       "      <td>1042</td>\n",
       "      <td>1</td>\n",
       "      <td>-1</td>\n",
       "      <td>0</td>\n",
       "      <td>3</td>\n",
       "      <td>1</td>\n",
       "    </tr>\n",
       "    <tr>\n",
       "      <td>1</td>\n",
       "      <td>56</td>\n",
       "      <td>0</td>\n",
       "      <td>1</td>\n",
       "      <td>1</td>\n",
       "      <td>0</td>\n",
       "      <td>45</td>\n",
       "      <td>0</td>\n",
       "      <td>0</td>\n",
       "      <td>2</td>\n",
       "      <td>5</td>\n",
       "      <td>8</td>\n",
       "      <td>1467</td>\n",
       "      <td>1</td>\n",
       "      <td>-1</td>\n",
       "      <td>0</td>\n",
       "      <td>3</td>\n",
       "      <td>1</td>\n",
       "    </tr>\n",
       "    <tr>\n",
       "      <td>2</td>\n",
       "      <td>41</td>\n",
       "      <td>9</td>\n",
       "      <td>1</td>\n",
       "      <td>1</td>\n",
       "      <td>0</td>\n",
       "      <td>1270</td>\n",
       "      <td>1</td>\n",
       "      <td>0</td>\n",
       "      <td>2</td>\n",
       "      <td>5</td>\n",
       "      <td>8</td>\n",
       "      <td>1389</td>\n",
       "      <td>1</td>\n",
       "      <td>-1</td>\n",
       "      <td>0</td>\n",
       "      <td>3</td>\n",
       "      <td>1</td>\n",
       "    </tr>\n",
       "    <tr>\n",
       "      <td>3</td>\n",
       "      <td>55</td>\n",
       "      <td>7</td>\n",
       "      <td>1</td>\n",
       "      <td>1</td>\n",
       "      <td>0</td>\n",
       "      <td>2476</td>\n",
       "      <td>1</td>\n",
       "      <td>0</td>\n",
       "      <td>2</td>\n",
       "      <td>5</td>\n",
       "      <td>8</td>\n",
       "      <td>579</td>\n",
       "      <td>1</td>\n",
       "      <td>-1</td>\n",
       "      <td>0</td>\n",
       "      <td>3</td>\n",
       "      <td>1</td>\n",
       "    </tr>\n",
       "    <tr>\n",
       "      <td>4</td>\n",
       "      <td>54</td>\n",
       "      <td>0</td>\n",
       "      <td>1</td>\n",
       "      <td>2</td>\n",
       "      <td>0</td>\n",
       "      <td>184</td>\n",
       "      <td>0</td>\n",
       "      <td>0</td>\n",
       "      <td>2</td>\n",
       "      <td>5</td>\n",
       "      <td>8</td>\n",
       "      <td>673</td>\n",
       "      <td>2</td>\n",
       "      <td>-1</td>\n",
       "      <td>0</td>\n",
       "      <td>3</td>\n",
       "      <td>1</td>\n",
       "    </tr>\n",
       "  </tbody>\n",
       "</table>\n",
       "</div>"
      ],
      "text/plain": [
       "   age  job  marital  education  default  balance  housing  loan  contact  \\\n",
       "0   59    0        1          1        0     2343        1     0        2   \n",
       "1   56    0        1          1        0       45        0     0        2   \n",
       "2   41    9        1          1        0     1270        1     0        2   \n",
       "3   55    7        1          1        0     2476        1     0        2   \n",
       "4   54    0        1          2        0      184        0     0        2   \n",
       "\n",
       "   day  month  duration  campaign  pdays  previous  poutcome  deposit  \n",
       "0    5      8      1042         1     -1         0         3        1  \n",
       "1    5      8      1467         1     -1         0         3        1  \n",
       "2    5      8      1389         1     -1         0         3        1  \n",
       "3    5      8       579         1     -1         0         3        1  \n",
       "4    5      8       673         2     -1         0         3        1  "
      ]
     },
     "execution_count": 3,
     "metadata": {},
     "output_type": "execute_result"
    }
   ],
   "source": [
    "df.head()"
   ]
  },
  {
   "cell_type": "code",
   "execution_count": 4,
   "metadata": {},
   "outputs": [
    {
     "name": "stdout",
     "output_type": "stream",
     "text": [
      "<class 'pandas.core.frame.DataFrame'>\n",
      "RangeIndex: 11162 entries, 0 to 11161\n",
      "Data columns (total 17 columns):\n",
      "age          11162 non-null int64\n",
      "job          11162 non-null int64\n",
      "marital      11162 non-null int64\n",
      "education    11162 non-null int64\n",
      "default      11162 non-null int64\n",
      "balance      11162 non-null int64\n",
      "housing      11162 non-null int64\n",
      "loan         11162 non-null int64\n",
      "contact      11162 non-null int64\n",
      "day          11162 non-null int64\n",
      "month        11162 non-null int64\n",
      "duration     11162 non-null int64\n",
      "campaign     11162 non-null int64\n",
      "pdays        11162 non-null int64\n",
      "previous     11162 non-null int64\n",
      "poutcome     11162 non-null int64\n",
      "deposit      11162 non-null int64\n",
      "dtypes: int64(17)\n",
      "memory usage: 1.4 MB\n"
     ]
    }
   ],
   "source": [
    "df.info()"
   ]
  },
  {
   "cell_type": "code",
   "execution_count": 5,
   "metadata": {},
   "outputs": [
    {
     "data": {
      "text/plain": [
       "age          0\n",
       "job          0\n",
       "marital      0\n",
       "education    0\n",
       "default      0\n",
       "balance      0\n",
       "housing      0\n",
       "loan         0\n",
       "contact      0\n",
       "day          0\n",
       "month        0\n",
       "duration     0\n",
       "campaign     0\n",
       "pdays        0\n",
       "previous     0\n",
       "poutcome     0\n",
       "deposit      0\n",
       "dtype: int64"
      ]
     },
     "execution_count": 5,
     "metadata": {},
     "output_type": "execute_result"
    }
   ],
   "source": [
    "df.isnull().sum()"
   ]
  },
  {
   "cell_type": "code",
   "execution_count": 6,
   "metadata": {},
   "outputs": [],
   "source": [
    "def classify(model):\n",
    "    model.fit(X_train,y_train)\n",
    "    y_pred = model.predict(X_test)\n",
    "    print(classification_report(y_test,y_pred))\n",
    "    return model"
   ]
  },
  {
   "cell_type": "code",
   "execution_count": 7,
   "metadata": {},
   "outputs": [],
   "source": [
    "X = df.iloc[:,:-1] # rows with all columns except last one\n",
    "y = df.iloc[:,-1] #rows with only last column"
   ]
  },
  {
   "cell_type": "code",
   "execution_count": 8,
   "metadata": {},
   "outputs": [],
   "source": [
    "X_train,X_test,y_train,y_test = train_test_split(X,y,test_size=0.3,random_state=1)"
   ]
  },
  {
   "cell_type": "code",
   "execution_count": 9,
   "metadata": {},
   "outputs": [],
   "source": [
    "lr = LogisticRegression(random_state=1)"
   ]
  },
  {
   "cell_type": "code",
   "execution_count": 10,
   "metadata": {},
   "outputs": [
    {
     "name": "stdout",
     "output_type": "stream",
     "text": [
      "              precision    recall  f1-score   support\n",
      "\n",
      "           0       0.80      0.82      0.81      1760\n",
      "           1       0.79      0.78      0.78      1589\n",
      "\n",
      "    accuracy                           0.80      3349\n",
      "   macro avg       0.80      0.80      0.80      3349\n",
      "weighted avg       0.80      0.80      0.80      3349\n",
      "\n"
     ]
    },
    {
     "data": {
      "text/plain": [
       "LogisticRegression(C=1.0, class_weight=None, dual=False, fit_intercept=True,\n",
       "                   intercept_scaling=1, l1_ratio=None, max_iter=100,\n",
       "                   multi_class='warn', n_jobs=None, penalty='l2',\n",
       "                   random_state=1, solver='warn', tol=0.0001, verbose=0,\n",
       "                   warm_start=False)"
      ]
     },
     "execution_count": 10,
     "metadata": {},
     "output_type": "execute_result"
    }
   ],
   "source": [
    "classify(lr)"
   ]
  },
  {
   "cell_type": "code",
   "execution_count": 11,
   "metadata": {},
   "outputs": [],
   "source": [
    "from sklearn.tree import DecisionTreeClassifier"
   ]
  },
  {
   "cell_type": "code",
   "execution_count": 12,
   "metadata": {},
   "outputs": [],
   "source": [
    "dt = DecisionTreeClassifier()"
   ]
  },
  {
   "cell_type": "code",
   "execution_count": 13,
   "metadata": {},
   "outputs": [
    {
     "name": "stdout",
     "output_type": "stream",
     "text": [
      "              precision    recall  f1-score   support\n",
      "\n",
      "           0       0.79      0.80      0.80      1760\n",
      "           1       0.78      0.77      0.77      1589\n",
      "\n",
      "    accuracy                           0.78      3349\n",
      "   macro avg       0.78      0.78      0.78      3349\n",
      "weighted avg       0.78      0.78      0.78      3349\n",
      "\n"
     ]
    },
    {
     "data": {
      "text/plain": [
       "DecisionTreeClassifier(class_weight=None, criterion='gini', max_depth=None,\n",
       "                       max_features=None, max_leaf_nodes=None,\n",
       "                       min_impurity_decrease=0.0, min_impurity_split=None,\n",
       "                       min_samples_leaf=1, min_samples_split=2,\n",
       "                       min_weight_fraction_leaf=0.0, presort=False,\n",
       "                       random_state=None, splitter='best')"
      ]
     },
     "execution_count": 13,
     "metadata": {},
     "output_type": "execute_result"
    }
   ],
   "source": [
    "classify(dt)"
   ]
  },
  {
   "cell_type": "code",
   "execution_count": 14,
   "metadata": {},
   "outputs": [],
   "source": [
    "dt2 = DecisionTreeClassifier(max_depth=10)"
   ]
  },
  {
   "cell_type": "code",
   "execution_count": 15,
   "metadata": {},
   "outputs": [
    {
     "name": "stdout",
     "output_type": "stream",
     "text": [
      "              precision    recall  f1-score   support\n",
      "\n",
      "           0       0.83      0.83      0.83      1760\n",
      "           1       0.81      0.81      0.81      1589\n",
      "\n",
      "    accuracy                           0.82      3349\n",
      "   macro avg       0.82      0.82      0.82      3349\n",
      "weighted avg       0.82      0.82      0.82      3349\n",
      "\n"
     ]
    },
    {
     "data": {
      "text/plain": [
       "DecisionTreeClassifier(class_weight=None, criterion='gini', max_depth=10,\n",
       "                       max_features=None, max_leaf_nodes=None,\n",
       "                       min_impurity_decrease=0.0, min_impurity_split=None,\n",
       "                       min_samples_leaf=1, min_samples_split=2,\n",
       "                       min_weight_fraction_leaf=0.0, presort=False,\n",
       "                       random_state=None, splitter='best')"
      ]
     },
     "execution_count": 15,
     "metadata": {},
     "output_type": "execute_result"
    }
   ],
   "source": [
    "classify(dt2)"
   ]
  },
  {
   "cell_type": "code",
   "execution_count": 16,
   "metadata": {},
   "outputs": [],
   "source": [
    "dt3 = DecisionTreeClassifier(min_samples_leaf=10)"
   ]
  },
  {
   "cell_type": "code",
   "execution_count": 17,
   "metadata": {},
   "outputs": [
    {
     "name": "stdout",
     "output_type": "stream",
     "text": [
      "              precision    recall  f1-score   support\n",
      "\n",
      "           0       0.82      0.83      0.82      1760\n",
      "           1       0.81      0.80      0.80      1589\n",
      "\n",
      "    accuracy                           0.81      3349\n",
      "   macro avg       0.81      0.81      0.81      3349\n",
      "weighted avg       0.81      0.81      0.81      3349\n",
      "\n"
     ]
    }
   ],
   "source": [
    "dt3 = classify(dt3)"
   ]
  },
  {
   "cell_type": "code",
   "execution_count": 18,
   "metadata": {},
   "outputs": [],
   "source": [
    "#cross validation Homework"
   ]
  },
  {
   "cell_type": "code",
   "execution_count": 19,
   "metadata": {},
   "outputs": [],
   "source": [
    "from sklearn import tree"
   ]
  },
  {
   "cell_type": "code",
   "execution_count": 20,
   "metadata": {},
   "outputs": [
    {
     "data": {
      "text/plain": [
       "[Text(154.9263536305147, 211.4, 'X[11] <= 206.5\\ngini = 0.499\\nsamples = 7813\\nvalue = [4113, 3700]'),\n",
       " Text(72.77207261029412, 199.32, 'X[13] <= 27.5\\ngini = 0.325\\nsamples = 3136\\nvalue = [2495, 641]'),\n",
       " Text(55.000439338235296, 187.24, 'X[0] <= 60.5\\ngini = 0.247\\nsamples = 2456\\nvalue = [2101, 355]'),\n",
       " Text(40.677584558823526, 175.16, 'X[10] <= 9.5\\ngini = 0.221\\nsamples = 2375\\nvalue = [2075, 300]'),\n",
       " Text(17.546227941176472, 163.07999999999998, 'X[10] <= 0.5\\ngini = 0.197\\nsamples = 2308\\nvalue = [2052, 256]'),\n",
       " Text(5.908235294117647, 151.0, 'X[6] <= 0.5\\ngini = 0.5\\nsamples = 115\\nvalue = [58, 57]'),\n",
       " Text(3.9388235294117644, 138.92000000000002, 'X[9] <= 21.5\\ngini = 0.346\\nsamples = 63\\nvalue = [14, 49]'),\n",
       " Text(3.1510588235294117, 126.84, 'X[2] <= 1.5\\ngini = 0.219\\nsamples = 48\\nvalue = [6, 42]'),\n",
       " Text(1.5755294117647058, 114.75999999999999, 'X[9] <= 15.5\\ngini = 0.363\\nsamples = 21\\nvalue = [5, 16]'),\n",
       " Text(0.7877647058823529, 102.67999999999999, 'gini = 0.42\\nsamples = 10\\nvalue = [3, 7]'),\n",
       " Text(2.363294117647059, 102.67999999999999, 'gini = 0.298\\nsamples = 11\\nvalue = [2, 9]'),\n",
       " Text(4.726588235294118, 114.75999999999999, 'X[9] <= 8.5\\ngini = 0.071\\nsamples = 27\\nvalue = [1, 26]'),\n",
       " Text(3.9388235294117644, 102.67999999999999, 'gini = 0.18\\nsamples = 10\\nvalue = [1, 9]'),\n",
       " Text(5.514352941176471, 102.67999999999999, 'gini = 0.0\\nsamples = 17\\nvalue = [0, 17]'),\n",
       " Text(4.726588235294118, 126.84, 'gini = 0.498\\nsamples = 15\\nvalue = [8, 7]'),\n",
       " Text(7.877647058823529, 138.92000000000002, 'X[5] <= 1839.0\\ngini = 0.26\\nsamples = 52\\nvalue = [44, 8]'),\n",
       " Text(7.089882352941176, 126.84, 'X[9] <= 18.5\\ngini = 0.176\\nsamples = 41\\nvalue = [37, 4]'),\n",
       " Text(6.302117647058823, 114.75999999999999, 'gini = 0.0\\nsamples = 17\\nvalue = [17, 0]'),\n",
       " Text(7.877647058823529, 114.75999999999999, 'X[11] <= 74.0\\ngini = 0.278\\nsamples = 24\\nvalue = [20, 4]'),\n",
       " Text(7.089882352941176, 102.67999999999999, 'gini = 0.0\\nsamples = 10\\nvalue = [10, 0]'),\n",
       " Text(8.665411764705881, 102.67999999999999, 'gini = 0.408\\nsamples = 14\\nvalue = [10, 4]'),\n",
       " Text(8.665411764705881, 126.84, 'gini = 0.463\\nsamples = 11\\nvalue = [7, 4]'),\n",
       " Text(29.184220588235295, 151.0, 'X[0] <= 25.5\\ngini = 0.165\\nsamples = 2193\\nvalue = [1994, 199]'),\n",
       " Text(11.816470588235294, 138.92000000000002, 'X[6] <= 0.5\\ngini = 0.477\\nsamples = 74\\nvalue = [45, 29]'),\n",
       " Text(10.240941176470589, 126.84, 'X[9] <= 8.0\\ngini = 0.494\\nsamples = 47\\nvalue = [21, 26]'),\n",
       " Text(9.453176470588236, 114.75999999999999, 'gini = 0.444\\nsamples = 15\\nvalue = [10, 5]'),\n",
       " Text(11.028705882352941, 114.75999999999999, 'X[11] <= 135.5\\ngini = 0.451\\nsamples = 32\\nvalue = [11, 21]'),\n",
       " Text(10.240941176470589, 102.67999999999999, 'gini = 0.305\\nsamples = 16\\nvalue = [3, 13]'),\n",
       " Text(11.816470588235294, 102.67999999999999, 'gini = 0.5\\nsamples = 16\\nvalue = [8, 8]'),\n",
       " Text(13.392, 126.84, 'X[8] <= 0.5\\ngini = 0.198\\nsamples = 27\\nvalue = [24, 3]'),\n",
       " Text(12.604235294117647, 114.75999999999999, 'gini = 0.355\\nsamples = 13\\nvalue = [10, 3]'),\n",
       " Text(14.179764705882352, 114.75999999999999, 'gini = 0.0\\nsamples = 14\\nvalue = [14, 0]'),\n",
       " Text(46.55197058823529, 138.92000000000002, 'X[8] <= 0.5\\ngini = 0.148\\nsamples = 2119\\nvalue = [1949, 170]'),\n",
       " Text(32.44605882352941, 126.84, 'X[11] <= 114.5\\ngini = 0.213\\nsamples = 1249\\nvalue = [1098, 151]'),\n",
       " Text(19.891058823529413, 114.75999999999999, 'X[9] <= 16.5\\ngini = 0.095\\nsamples = 601\\nvalue = [571, 30]'),\n",
       " Text(13.392, 102.67999999999999, 'X[11] <= 68.5\\ngini = 0.181\\nsamples = 239\\nvalue = [215, 24]'),\n",
       " Text(10.634823529411765, 90.6, 'X[11] <= 62.5\\ngini = 0.02\\nsamples = 98\\nvalue = [97, 1]'),\n",
       " Text(9.847058823529412, 78.52000000000001, 'gini = 0.0\\nsamples = 84\\nvalue = [84, 0]'),\n",
       " Text(11.422588235294118, 78.52000000000001, 'gini = 0.133\\nsamples = 14\\nvalue = [13, 1]'),\n",
       " Text(16.149176470588234, 90.6, 'X[10] <= 5.5\\ngini = 0.273\\nsamples = 141\\nvalue = [118, 23]'),\n",
       " Text(12.998117647058823, 78.52000000000001, 'X[5] <= 983.5\\ngini = 0.146\\nsamples = 88\\nvalue = [81, 7]'),\n",
       " Text(11.422588235294118, 66.44, 'X[11] <= 76.5\\ngini = 0.031\\nsamples = 63\\nvalue = [62, 1]'),\n",
       " Text(10.634823529411765, 54.359999999999985, 'gini = 0.153\\nsamples = 12\\nvalue = [11, 1]'),\n",
       " Text(12.21035294117647, 54.359999999999985, 'gini = 0.0\\nsamples = 51\\nvalue = [51, 0]'),\n",
       " Text(14.573647058823529, 66.44, 'X[5] <= 2685.5\\ngini = 0.365\\nsamples = 25\\nvalue = [19, 6]'),\n",
       " Text(13.785882352941176, 54.359999999999985, 'gini = 0.497\\nsamples = 13\\nvalue = [7, 6]'),\n",
       " Text(15.361411764705881, 54.359999999999985, 'gini = 0.0\\nsamples = 12\\nvalue = [12, 0]'),\n",
       " Text(19.30023529411765, 78.52000000000001, 'X[10] <= 7.5\\ngini = 0.422\\nsamples = 53\\nvalue = [37, 16]'),\n",
       " Text(17.72470588235294, 66.44, 'X[2] <= 1.5\\ngini = 0.463\\nsamples = 22\\nvalue = [8, 14]'),\n",
       " Text(16.936941176470587, 54.359999999999985, 'gini = 0.496\\nsamples = 11\\nvalue = [6, 5]'),\n",
       " Text(18.512470588235292, 54.359999999999985, 'gini = 0.298\\nsamples = 11\\nvalue = [2, 9]'),\n",
       " Text(20.875764705882354, 66.44, 'X[5] <= 630.0\\ngini = 0.121\\nsamples = 31\\nvalue = [29, 2]'),\n",
       " Text(20.088, 54.359999999999985, 'gini = 0.0\\nsamples = 21\\nvalue = [21, 0]'),\n",
       " Text(21.663529411764706, 54.359999999999985, 'gini = 0.32\\nsamples = 10\\nvalue = [8, 2]'),\n",
       " Text(26.390117647058823, 102.67999999999999, 'X[10] <= 3.5\\ngini = 0.033\\nsamples = 362\\nvalue = [356, 6]'),\n",
       " Text(25.60235294117647, 90.6, 'X[12] <= 3.5\\ngini = 0.09\\nsamples = 127\\nvalue = [121, 6]'),\n",
       " Text(24.814588235294117, 78.52000000000001, 'X[2] <= 1.5\\ngini = 0.25\\nsamples = 41\\nvalue = [35, 6]'),\n",
       " Text(24.026823529411764, 66.44, 'X[9] <= 21.5\\ngini = 0.121\\nsamples = 31\\nvalue = [29, 2]'),\n",
       " Text(23.23905882352941, 54.359999999999985, 'gini = 0.298\\nsamples = 11\\nvalue = [9, 2]'),\n",
       " Text(24.814588235294117, 54.359999999999985, 'gini = 0.0\\nsamples = 20\\nvalue = [20, 0]'),\n",
       " Text(25.60235294117647, 66.44, 'gini = 0.48\\nsamples = 10\\nvalue = [6, 4]'),\n",
       " Text(26.390117647058823, 78.52000000000001, 'gini = 0.0\\nsamples = 86\\nvalue = [86, 0]'),\n",
       " Text(27.177882352941175, 90.6, 'gini = 0.0\\nsamples = 235\\nvalue = [235, 0]'),\n",
       " Text(45.00105882352941, 114.75999999999999, 'X[10] <= 5.5\\ngini = 0.304\\nsamples = 648\\nvalue = [527, 121]'),\n",
       " Text(39.19129411764706, 102.67999999999999, 'X[10] <= 4.5\\ngini = 0.208\\nsamples = 433\\nvalue = [382, 51]'),\n",
       " Text(35.0555294117647, 90.6, 'X[10] <= 1.5\\ngini = 0.282\\nsamples = 283\\nvalue = [235, 48]'),\n",
       " Text(29.147294117647057, 78.52000000000001, 'X[5] <= 371.0\\ngini = 0.107\\nsamples = 177\\nvalue = [167, 10]'),\n",
       " Text(27.177882352941175, 66.44, 'X[1] <= 0.5\\ngini = 0.024\\nsamples = 82\\nvalue = [81, 1]'),\n",
       " Text(26.390117647058823, 54.359999999999985, 'gini = 0.18\\nsamples = 10\\nvalue = [9, 1]'),\n",
       " Text(27.965647058823528, 54.359999999999985, 'gini = 0.0\\nsamples = 72\\nvalue = [72, 0]'),\n",
       " Text(31.11670588235294, 66.44, 'X[9] <= 12.5\\ngini = 0.172\\nsamples = 95\\nvalue = [86, 9]'),\n",
       " Text(29.541176470588233, 54.359999999999985, 'X[5] <= 658.5\\ngini = 0.048\\nsamples = 41\\nvalue = [40, 1]'),\n",
       " Text(28.75341176470588, 42.28, 'gini = 0.18\\nsamples = 10\\nvalue = [9, 1]'),\n",
       " Text(30.328941176470586, 42.28, 'gini = 0.0\\nsamples = 31\\nvalue = [31, 0]'),\n",
       " Text(32.692235294117644, 54.359999999999985, 'X[9] <= 16.0\\ngini = 0.252\\nsamples = 54\\nvalue = [46, 8]'),\n",
       " Text(31.904470588235295, 42.28, 'gini = 0.48\\nsamples = 15\\nvalue = [9, 6]'),\n",
       " Text(33.48, 42.28, 'X[11] <= 178.5\\ngini = 0.097\\nsamples = 39\\nvalue = [37, 2]'),\n",
       " Text(32.692235294117644, 30.19999999999999, 'gini = 0.0\\nsamples = 29\\nvalue = [29, 0]'),\n",
       " Text(34.26776470588235, 30.19999999999999, 'gini = 0.32\\nsamples = 10\\nvalue = [8, 2]'),\n",
       " Text(40.963764705882355, 78.52000000000001, 'X[5] <= 1361.0\\ngini = 0.46\\nsamples = 106\\nvalue = [68, 38]'),\n",
       " Text(38.99435294117647, 66.44, 'X[9] <= 27.5\\ngini = 0.372\\nsamples = 77\\nvalue = [58, 19]'),\n",
       " Text(37.41882352941176, 54.359999999999985, 'X[9] <= 9.5\\ngini = 0.449\\nsamples = 53\\nvalue = [35, 18]'),\n",
       " Text(36.63105882352941, 42.28, 'X[5] <= 80.0\\ngini = 0.26\\nsamples = 39\\nvalue = [33, 6]'),\n",
       " Text(35.843294117647055, 30.19999999999999, 'gini = 0.0\\nsamples = 12\\nvalue = [12, 0]'),\n",
       " Text(37.41882352941176, 30.19999999999999, 'X[11] <= 135.5\\ngini = 0.346\\nsamples = 27\\nvalue = [21, 6]'),\n",
       " Text(36.63105882352941, 18.120000000000005, 'gini = 0.0\\nsamples = 10\\nvalue = [10, 0]'),\n",
       " Text(38.20658823529412, 18.120000000000005, 'gini = 0.457\\nsamples = 17\\nvalue = [11, 6]'),\n",
       " Text(38.20658823529412, 42.28, 'gini = 0.245\\nsamples = 14\\nvalue = [2, 12]'),\n",
       " Text(40.56988235294118, 54.359999999999985, 'X[9] <= 28.5\\ngini = 0.08\\nsamples = 24\\nvalue = [23, 1]'),\n",
       " Text(39.782117647058826, 42.28, 'gini = 0.18\\nsamples = 10\\nvalue = [9, 1]'),\n",
       " Text(41.35764705882353, 42.28, 'gini = 0.0\\nsamples = 14\\nvalue = [14, 0]'),\n",
       " Text(42.933176470588236, 66.44, 'X[9] <= 10.0\\ngini = 0.452\\nsamples = 29\\nvalue = [10, 19]'),\n",
       " Text(42.145411764705884, 54.359999999999985, 'gini = 0.48\\nsamples = 10\\nvalue = [6, 4]'),\n",
       " Text(43.72094117647059, 54.359999999999985, 'gini = 0.332\\nsamples = 19\\nvalue = [4, 15]'),\n",
       " Text(43.32705882352941, 90.6, 'X[9] <= 7.5\\ngini = 0.039\\nsamples = 150\\nvalue = [147, 3]'),\n",
       " Text(42.53929411764706, 78.52000000000001, 'gini = 0.375\\nsamples = 12\\nvalue = [9, 3]'),\n",
       " Text(44.114823529411765, 78.52000000000001, 'gini = 0.0\\nsamples = 138\\nvalue = [138, 0]'),\n",
       " Text(50.81082352941176, 102.67999999999999, 'X[10] <= 7.5\\ngini = 0.439\\nsamples = 215\\nvalue = [145, 70]'),\n",
       " Text(46.872, 90.6, 'X[0] <= 30.5\\ngini = 0.32\\nsamples = 65\\nvalue = [13, 52]'),\n",
       " Text(46.08423529411765, 78.52000000000001, 'gini = 0.49\\nsamples = 14\\nvalue = [6, 8]'),\n",
       " Text(47.65976470588235, 78.52000000000001, 'X[9] <= 6.5\\ngini = 0.237\\nsamples = 51\\nvalue = [7, 44]'),\n",
       " Text(46.08423529411765, 66.44, 'X[11] <= 154.5\\ngini = 0.408\\nsamples = 21\\nvalue = [6, 15]'),\n",
       " Text(45.296470588235294, 54.359999999999985, 'gini = 0.5\\nsamples = 10\\nvalue = [5, 5]'),\n",
       " Text(46.872, 54.359999999999985, 'gini = 0.165\\nsamples = 11\\nvalue = [1, 10]'),\n",
       " Text(49.23529411764706, 66.44, 'X[1] <= 5.0\\ngini = 0.064\\nsamples = 30\\nvalue = [1, 29]'),\n",
       " Text(48.447529411764705, 54.359999999999985, 'gini = 0.0\\nsamples = 20\\nvalue = [0, 20]'),\n",
       " Text(50.02305882352941, 54.359999999999985, 'gini = 0.18\\nsamples = 10\\nvalue = [1, 9]'),\n",
       " Text(54.74964705882353, 90.6, 'X[9] <= 21.5\\ngini = 0.211\\nsamples = 150\\nvalue = [132, 18]'),\n",
       " Text(53.961882352941174, 78.52000000000001, 'X[9] <= 10.5\\ngini = 0.126\\nsamples = 133\\nvalue = [124, 9]'),\n",
       " Text(52.38635294117647, 66.44, 'X[5] <= 210.0\\ngini = 0.328\\nsamples = 29\\nvalue = [23, 6]'),\n",
       " Text(51.598588235294116, 54.359999999999985, 'gini = 0.0\\nsamples = 12\\nvalue = [12, 0]'),\n",
       " Text(53.17411764705882, 54.359999999999985, 'gini = 0.457\\nsamples = 17\\nvalue = [11, 6]'),\n",
       " Text(55.53741176470588, 66.44, 'X[9] <= 16.0\\ngini = 0.056\\nsamples = 104\\nvalue = [101, 3]'),\n",
       " Text(54.74964705882353, 54.359999999999985, 'X[5] <= 616.5\\ngini = 0.165\\nsamples = 33\\nvalue = [30, 3]'),\n",
       " Text(53.961882352941174, 42.28, 'X[11] <= 158.5\\ngini = 0.091\\nsamples = 21\\nvalue = [20, 1]'),\n",
       " Text(53.17411764705882, 30.19999999999999, 'gini = 0.18\\nsamples = 10\\nvalue = [9, 1]'),\n",
       " Text(54.74964705882353, 30.19999999999999, 'gini = 0.0\\nsamples = 11\\nvalue = [11, 0]'),\n",
       " Text(55.53741176470588, 42.28, 'gini = 0.278\\nsamples = 12\\nvalue = [10, 2]'),\n",
       " Text(56.32517647058823, 54.359999999999985, 'gini = 0.0\\nsamples = 71\\nvalue = [71, 0]'),\n",
       " Text(55.53741176470588, 78.52000000000001, 'gini = 0.498\\nsamples = 17\\nvalue = [8, 9]'),\n",
       " Text(60.65788235294117, 126.84, 'X[10] <= 8.5\\ngini = 0.043\\nsamples = 870\\nvalue = [851, 19]'),\n",
       " Text(58.68847058823529, 114.75999999999999, 'X[10] <= 3.5\\ngini = 0.028\\nsamples = 837\\nvalue = [825, 12]'),\n",
       " Text(57.112941176470585, 102.67999999999999, 'X[5] <= 592.0\\ngini = 0.311\\nsamples = 26\\nvalue = [21, 5]'),\n",
       " Text(56.32517647058823, 90.6, 'gini = 0.0\\nsamples = 13\\nvalue = [13, 0]'),\n",
       " Text(57.90070588235294, 90.6, 'gini = 0.473\\nsamples = 13\\nvalue = [8, 5]'),\n",
       " Text(60.263999999999996, 102.67999999999999, 'X[9] <= 10.5\\ngini = 0.017\\nsamples = 811\\nvalue = [804, 7]'),\n",
       " Text(59.47623529411764, 90.6, 'X[10] <= 5.5\\ngini = 0.058\\nsamples = 236\\nvalue = [229, 7]'),\n",
       " Text(57.90070588235294, 78.52000000000001, 'X[9] <= 5.5\\ngini = 0.287\\nsamples = 23\\nvalue = [19, 4]'),\n",
       " Text(57.112941176470585, 66.44, 'gini = 0.153\\nsamples = 12\\nvalue = [11, 1]'),\n",
       " Text(58.68847058823529, 66.44, 'gini = 0.397\\nsamples = 11\\nvalue = [8, 3]'),\n",
       " Text(61.05176470588235, 78.52000000000001, 'X[8] <= 1.5\\ngini = 0.028\\nsamples = 213\\nvalue = [210, 3]'),\n",
       " Text(60.263999999999996, 66.44, 'gini = 0.26\\nsamples = 13\\nvalue = [11, 2]'),\n",
       " Text(61.8395294117647, 66.44, 'X[1] <= 0.5\\ngini = 0.01\\nsamples = 200\\nvalue = [199, 1]'),\n",
       " Text(61.05176470588235, 54.359999999999985, 'X[11] <= 126.5\\ngini = 0.087\\nsamples = 22\\nvalue = [21, 1]'),\n",
       " Text(60.263999999999996, 42.28, 'gini = 0.18\\nsamples = 10\\nvalue = [9, 1]'),\n",
       " Text(61.8395294117647, 42.28, 'gini = 0.0\\nsamples = 12\\nvalue = [12, 0]'),\n",
       " Text(62.627294117647054, 54.359999999999985, 'gini = 0.0\\nsamples = 178\\nvalue = [178, 0]'),\n",
       " Text(61.05176470588235, 90.6, 'gini = 0.0\\nsamples = 575\\nvalue = [575, 0]'),\n",
       " Text(62.627294117647054, 114.75999999999999, 'X[11] <= 83.0\\ngini = 0.334\\nsamples = 33\\nvalue = [26, 7]'),\n",
       " Text(61.8395294117647, 102.67999999999999, 'gini = 0.0\\nsamples = 18\\nvalue = [18, 0]'),\n",
       " Text(63.415058823529414, 102.67999999999999, 'gini = 0.498\\nsamples = 15\\nvalue = [8, 7]'),\n",
       " Text(63.80894117647059, 163.07999999999998, 'X[11] <= 77.5\\ngini = 0.451\\nsamples = 67\\nvalue = [23, 44]'),\n",
       " Text(63.02117647058823, 151.0, 'gini = 0.0\\nsamples = 10\\nvalue = [10, 0]'),\n",
       " Text(64.59670588235294, 151.0, 'X[9] <= 20.0\\ngini = 0.352\\nsamples = 57\\nvalue = [13, 44]'),\n",
       " Text(63.02117647058823, 138.92000000000002, 'X[11] <= 127.5\\ngini = 0.477\\nsamples = 28\\nvalue = [11, 17]'),\n",
       " Text(62.23341176470588, 126.84, 'gini = 0.486\\nsamples = 12\\nvalue = [7, 5]'),\n",
       " Text(63.80894117647059, 126.84, 'gini = 0.375\\nsamples = 16\\nvalue = [4, 12]'),\n",
       " Text(66.17223529411764, 138.92000000000002, 'X[11] <= 155.0\\ngini = 0.128\\nsamples = 29\\nvalue = [2, 27]'),\n",
       " Text(65.38447058823529, 126.84, 'gini = 0.0\\nsamples = 19\\nvalue = [0, 19]'),\n",
       " Text(66.96, 126.84, 'gini = 0.32\\nsamples = 10\\nvalue = [2, 8]'),\n",
       " Text(69.32329411764705, 175.16, 'X[9] <= 8.5\\ngini = 0.436\\nsamples = 81\\nvalue = [26, 55]'),\n",
       " Text(68.5355294117647, 163.07999999999998, 'gini = 0.391\\nsamples = 15\\nvalue = [11, 4]'),\n",
       " Text(70.1110588235294, 163.07999999999998, 'X[0] <= 73.5\\ngini = 0.351\\nsamples = 66\\nvalue = [15, 51]'),\n",
       " Text(68.5355294117647, 151.0, 'X[11] <= 125.0\\ngini = 0.18\\nsamples = 40\\nvalue = [4, 36]'),\n",
       " Text(67.74776470588235, 138.92000000000002, 'gini = 0.42\\nsamples = 10\\nvalue = [3, 7]'),\n",
       " Text(69.32329411764705, 138.92000000000002, 'X[0] <= 70.5\\ngini = 0.064\\nsamples = 30\\nvalue = [1, 29]'),\n",
       " Text(68.5355294117647, 126.84, 'gini = 0.0\\nsamples = 20\\nvalue = [0, 20]'),\n",
       " Text(70.1110588235294, 126.84, 'gini = 0.18\\nsamples = 10\\nvalue = [1, 9]'),\n",
       " Text(71.68658823529411, 151.0, 'X[8] <= 0.5\\ngini = 0.488\\nsamples = 26\\nvalue = [11, 15]'),\n",
       " Text(70.89882352941176, 138.92000000000002, 'gini = 0.298\\nsamples = 11\\nvalue = [2, 9]'),\n",
       " Text(72.47435294117646, 138.92000000000002, 'gini = 0.48\\nsamples = 15\\nvalue = [9, 6]'),\n",
       " Text(90.54370588235294, 187.24, 'X[15] <= 1.5\\ngini = 0.487\\nsamples = 680\\nvalue = [394, 286]'),\n",
       " Text(83.6015294117647, 175.16, 'X[6] <= 0.5\\ngini = 0.376\\nsamples = 475\\nvalue = [356, 119]'),\n",
       " Text(77.004, 163.07999999999998, 'X[11] <= 125.5\\ngini = 0.498\\nsamples = 163\\nvalue = [86, 77]'),\n",
       " Text(74.83764705882352, 151.0, 'X[5] <= 982.5\\ngini = 0.305\\nsamples = 64\\nvalue = [52, 12]'),\n",
       " Text(74.04988235294117, 138.92000000000002, 'X[11] <= 86.5\\ngini = 0.162\\nsamples = 45\\nvalue = [41, 4]'),\n",
       " Text(73.26211764705882, 126.84, 'gini = 0.0\\nsamples = 21\\nvalue = [21, 0]'),\n",
       " Text(74.83764705882352, 126.84, 'X[3] <= 1.5\\ngini = 0.278\\nsamples = 24\\nvalue = [20, 4]'),\n",
       " Text(74.04988235294117, 114.75999999999999, 'gini = 0.463\\nsamples = 11\\nvalue = [7, 4]'),\n",
       " Text(75.62541176470589, 114.75999999999999, 'gini = 0.0\\nsamples = 13\\nvalue = [13, 0]'),\n",
       " Text(75.62541176470589, 138.92000000000002, 'gini = 0.488\\nsamples = 19\\nvalue = [11, 8]'),\n",
       " Text(79.17035294117647, 151.0, 'X[5] <= 228.0\\ngini = 0.451\\nsamples = 99\\nvalue = [34, 65]'),\n",
       " Text(77.2009411764706, 138.92000000000002, 'X[11] <= 156.0\\ngini = 0.444\\nsamples = 21\\nvalue = [14, 7]'),\n",
       " Text(76.41317647058824, 126.84, 'gini = 0.165\\nsamples = 11\\nvalue = [10, 1]'),\n",
       " Text(77.98870588235295, 126.84, 'gini = 0.48\\nsamples = 10\\nvalue = [4, 6]'),\n",
       " Text(81.13976470588236, 138.92000000000002, 'X[13] <= 150.5\\ngini = 0.381\\nsamples = 78\\nvalue = [20, 58]'),\n",
       " Text(79.56423529411765, 126.84, 'X[1] <= 8.5\\ngini = 0.224\\nsamples = 39\\nvalue = [5, 34]'),\n",
       " Text(78.7764705882353, 114.75999999999999, 'X[1] <= 2.5\\ngini = 0.067\\nsamples = 29\\nvalue = [1, 28]'),\n",
       " Text(77.98870588235295, 102.67999999999999, 'gini = 0.18\\nsamples = 10\\nvalue = [1, 9]'),\n",
       " Text(79.56423529411765, 102.67999999999999, 'gini = 0.0\\nsamples = 19\\nvalue = [0, 19]'),\n",
       " Text(80.352, 114.75999999999999, 'gini = 0.48\\nsamples = 10\\nvalue = [4, 6]'),\n",
       " Text(82.71529411764706, 126.84, 'X[13] <= 190.0\\ngini = 0.473\\nsamples = 39\\nvalue = [15, 24]'),\n",
       " Text(81.92752941176471, 114.75999999999999, 'gini = 0.48\\nsamples = 15\\nvalue = [9, 6]'),\n",
       " Text(83.50305882352941, 114.75999999999999, 'X[13] <= 267.5\\ngini = 0.375\\nsamples = 24\\nvalue = [6, 18]'),\n",
       " Text(82.71529411764706, 102.67999999999999, 'gini = 0.0\\nsamples = 10\\nvalue = [0, 10]'),\n",
       " Text(84.29082352941177, 102.67999999999999, 'gini = 0.49\\nsamples = 14\\nvalue = [6, 8]'),\n",
       " Text(90.19905882352941, 163.07999999999998, 'X[13] <= 95.5\\ngini = 0.233\\nsamples = 312\\nvalue = [270, 42]'),\n",
       " Text(88.62352941176471, 151.0, 'X[11] <= 128.5\\ngini = 0.496\\nsamples = 22\\nvalue = [10, 12]'),\n",
       " Text(87.83576470588235, 138.92000000000002, 'gini = 0.463\\nsamples = 11\\nvalue = [7, 4]'),\n",
       " Text(89.41129411764706, 138.92000000000002, 'gini = 0.397\\nsamples = 11\\nvalue = [3, 8]'),\n",
       " Text(91.77458823529412, 151.0, 'X[10] <= 9.5\\ngini = 0.185\\nsamples = 290\\nvalue = [260, 30]'),\n",
       " Text(90.98682352941177, 138.92000000000002, 'X[10] <= 7.5\\ngini = 0.163\\nsamples = 279\\nvalue = [254, 25]'),\n",
       " Text(88.22964705882353, 126.84, 'X[11] <= 126.5\\ngini = 0.299\\nsamples = 115\\nvalue = [94, 21]'),\n",
       " Text(86.65411764705883, 114.75999999999999, 'X[12] <= 1.5\\ngini = 0.111\\nsamples = 68\\nvalue = [64, 4]'),\n",
       " Text(85.86635294117647, 102.67999999999999, 'gini = 0.0\\nsamples = 34\\nvalue = [34, 0]'),\n",
       " Text(87.44188235294118, 102.67999999999999, 'X[0] <= 38.5\\ngini = 0.208\\nsamples = 34\\nvalue = [30, 4]'),\n",
       " Text(86.65411764705883, 90.6, 'gini = 0.332\\nsamples = 19\\nvalue = [15, 4]'),\n",
       " Text(88.22964705882353, 90.6, 'gini = 0.0\\nsamples = 15\\nvalue = [15, 0]'),\n",
       " Text(89.80517647058824, 114.75999999999999, 'X[5] <= 257.0\\ngini = 0.462\\nsamples = 47\\nvalue = [30, 17]'),\n",
       " Text(89.01741176470588, 102.67999999999999, 'gini = 0.117\\nsamples = 16\\nvalue = [15, 1]'),\n",
       " Text(90.59294117647059, 102.67999999999999, 'X[9] <= 16.5\\ngini = 0.499\\nsamples = 31\\nvalue = [15, 16]'),\n",
       " Text(89.80517647058824, 90.6, 'X[9] <= 7.0\\ngini = 0.444\\nsamples = 21\\nvalue = [7, 14]'),\n",
       " Text(89.01741176470588, 78.52000000000001, 'gini = 0.48\\nsamples = 10\\nvalue = [6, 4]'),\n",
       " Text(90.59294117647059, 78.52000000000001, 'gini = 0.165\\nsamples = 11\\nvalue = [1, 10]'),\n",
       " Text(91.38070588235294, 90.6, 'gini = 0.32\\nsamples = 10\\nvalue = [8, 2]'),\n",
       " Text(93.744, 126.84, 'X[8] <= 0.5\\ngini = 0.048\\nsamples = 164\\nvalue = [160, 4]'),\n",
       " Text(92.95623529411765, 114.75999999999999, 'X[11] <= 167.0\\ngini = 0.026\\nsamples = 152\\nvalue = [150, 2]'),\n",
       " Text(92.1684705882353, 102.67999999999999, 'gini = 0.0\\nsamples = 124\\nvalue = [124, 0]'),\n",
       " Text(93.744, 102.67999999999999, 'X[0] <= 38.0\\ngini = 0.133\\nsamples = 28\\nvalue = [26, 2]'),\n",
       " Text(92.95623529411765, 90.6, 'gini = 0.32\\nsamples = 10\\nvalue = [8, 2]'),\n",
       " Text(94.53176470588235, 90.6, 'gini = 0.0\\nsamples = 18\\nvalue = [18, 0]'),\n",
       " Text(94.53176470588235, 114.75999999999999, 'gini = 0.278\\nsamples = 12\\nvalue = [10, 2]'),\n",
       " Text(92.56235294117647, 138.92000000000002, 'gini = 0.496\\nsamples = 11\\nvalue = [6, 5]'),\n",
       " Text(97.48588235294118, 175.16, 'X[11] <= 102.5\\ngini = 0.302\\nsamples = 205\\nvalue = [38, 167]'),\n",
       " Text(94.13788235294118, 163.07999999999998, 'X[11] <= 78.0\\ngini = 0.499\\nsamples = 42\\nvalue = [20, 22]'),\n",
       " Text(93.35011764705882, 151.0, 'gini = 0.43\\nsamples = 16\\nvalue = [11, 5]'),\n",
       " Text(94.92564705882353, 151.0, 'X[11] <= 92.5\\ngini = 0.453\\nsamples = 26\\nvalue = [9, 17]'),\n",
       " Text(94.13788235294118, 138.92000000000002, 'gini = 0.0\\nsamples = 10\\nvalue = [0, 10]'),\n",
       " Text(95.71341176470588, 138.92000000000002, 'gini = 0.492\\nsamples = 16\\nvalue = [9, 7]'),\n",
       " Text(100.83388235294117, 163.07999999999998, 'X[11] <= 161.0\\ngini = 0.196\\nsamples = 163\\nvalue = [18, 145]'),\n",
       " Text(98.86447058823529, 151.0, 'X[10] <= 4.0\\ngini = 0.34\\nsamples = 69\\nvalue = [15, 54]'),\n",
       " Text(97.28894117647059, 138.92000000000002, 'X[9] <= 12.5\\ngini = 0.161\\nsamples = 34\\nvalue = [3, 31]'),\n",
       " Text(96.50117647058823, 126.84, 'gini = 0.0\\nsamples = 22\\nvalue = [0, 22]'),\n",
       " Text(98.07670588235294, 126.84, 'gini = 0.375\\nsamples = 12\\nvalue = [3, 9]'),\n",
       " Text(100.44, 138.92000000000002, 'X[0] <= 42.0\\ngini = 0.451\\nsamples = 35\\nvalue = [12, 23]'),\n",
       " Text(99.65223529411765, 126.84, 'X[0] <= 30.5\\ngini = 0.34\\nsamples = 23\\nvalue = [5, 18]'),\n",
       " Text(98.86447058823529, 114.75999999999999, 'gini = 0.444\\nsamples = 12\\nvalue = [4, 8]'),\n",
       " Text(100.44, 114.75999999999999, 'gini = 0.165\\nsamples = 11\\nvalue = [1, 10]'),\n",
       " Text(101.22776470588235, 126.84, 'gini = 0.486\\nsamples = 12\\nvalue = [7, 5]'),\n",
       " Text(102.80329411764706, 151.0, 'X[9] <= 18.5\\ngini = 0.062\\nsamples = 94\\nvalue = [3, 91]'),\n",
       " Text(102.0155294117647, 138.92000000000002, 'gini = 0.0\\nsamples = 58\\nvalue = [0, 58]'),\n",
       " Text(103.59105882352941, 138.92000000000002, 'X[11] <= 187.5\\ngini = 0.153\\nsamples = 36\\nvalue = [3, 33]'),\n",
       " Text(102.80329411764706, 126.84, 'gini = 0.0\\nsamples = 21\\nvalue = [0, 21]'),\n",
       " Text(104.37882352941176, 126.84, 'gini = 0.32\\nsamples = 15\\nvalue = [3, 12]'),\n",
       " Text(237.08063465073528, 199.32, 'X[11] <= 438.5\\ngini = 0.453\\nsamples = 4677\\nvalue = [1618, 3059]'),\n",
       " Text(193.57779044117646, 187.24, 'X[8] <= 1.5\\ngini = 0.5\\nsamples = 2448\\nvalue = [1188, 1260]'),\n",
       " Text(167.1722867647059, 175.16, 'X[6] <= 0.5\\ngini = 0.479\\nsamples = 2047\\nvalue = [813, 1234]'),\n",
       " Text(142.16075735294118, 163.07999999999998, 'X[14] <= 0.5\\ngini = 0.404\\nsamples = 1286\\nvalue = [361, 925]'),\n",
       " Text(131.49516176470587, 151.0, 'X[0] <= 60.5\\ngini = 0.475\\nsamples = 791\\nvalue = [307, 484]'),\n",
       " Text(121.58655882352942, 138.92000000000002, 'X[10] <= 5.5\\ngini = 0.492\\nsamples = 694\\nvalue = [302, 392]'),\n",
       " Text(109.05617647058823, 126.84, 'X[10] <= 0.5\\ngini = 0.496\\nsamples = 454\\nvalue = [246, 208]'),\n",
       " Text(102.0155294117647, 114.75999999999999, 'X[5] <= 514.5\\ngini = 0.25\\nsamples = 75\\nvalue = [11, 64]'),\n",
       " Text(100.44, 102.67999999999999, 'X[5] <= 128.5\\ngini = 0.056\\nsamples = 35\\nvalue = [1, 34]'),\n",
       " Text(99.65223529411765, 90.6, 'gini = 0.18\\nsamples = 10\\nvalue = [1, 9]'),\n",
       " Text(101.22776470588235, 90.6, 'gini = 0.0\\nsamples = 25\\nvalue = [0, 25]'),\n",
       " Text(103.59105882352941, 102.67999999999999, 'X[5] <= 1316.5\\ngini = 0.375\\nsamples = 40\\nvalue = [10, 30]'),\n",
       " Text(102.80329411764706, 90.6, 'gini = 0.463\\nsamples = 11\\nvalue = [7, 4]'),\n",
       " Text(104.37882352941176, 90.6, 'X[5] <= 3440.5\\ngini = 0.185\\nsamples = 29\\nvalue = [3, 26]'),\n",
       " Text(103.59105882352941, 78.52000000000001, 'gini = 0.0\\nsamples = 19\\nvalue = [0, 19]'),\n",
       " Text(105.16658823529411, 78.52000000000001, 'gini = 0.42\\nsamples = 10\\nvalue = [3, 7]'),\n",
       " Text(116.09682352941176, 114.75999999999999, 'X[5] <= 535.0\\ngini = 0.471\\nsamples = 379\\nvalue = [235, 144]'),\n",
       " Text(111.07482352941176, 102.67999999999999, 'X[9] <= 18.5\\ngini = 0.39\\nsamples = 211\\nvalue = [155, 56]'),\n",
       " Text(108.31764705882352, 90.6, 'X[1] <= 1.5\\ngini = 0.463\\nsamples = 121\\nvalue = [77, 44]'),\n",
       " Text(106.74211764705882, 78.52000000000001, 'X[11] <= 337.0\\ngini = 0.198\\nsamples = 36\\nvalue = [32, 4]'),\n",
       " Text(105.95435294117647, 66.44, 'X[0] <= 36.0\\ngini = 0.074\\nsamples = 26\\nvalue = [25, 1]'),\n",
       " Text(105.16658823529411, 54.359999999999985, 'gini = 0.18\\nsamples = 10\\nvalue = [9, 1]'),\n",
       " Text(106.74211764705882, 54.359999999999985, 'gini = 0.0\\nsamples = 16\\nvalue = [16, 0]'),\n",
       " Text(107.52988235294117, 66.44, 'gini = 0.42\\nsamples = 10\\nvalue = [7, 3]'),\n",
       " Text(109.89317647058823, 78.52000000000001, 'X[0] <= 29.5\\ngini = 0.498\\nsamples = 85\\nvalue = [45, 40]'),\n",
       " Text(109.10541176470588, 66.44, 'gini = 0.375\\nsamples = 16\\nvalue = [4, 12]'),\n",
       " Text(110.68094117647058, 66.44, 'X[11] <= 334.5\\ngini = 0.482\\nsamples = 69\\nvalue = [41, 28]'),\n",
       " Text(109.89317647058823, 54.359999999999985, 'X[9] <= 13.5\\ngini = 0.435\\nsamples = 50\\nvalue = [34, 16]'),\n",
       " Text(109.10541176470588, 42.28, 'X[2] <= 1.5\\ngini = 0.375\\nsamples = 40\\nvalue = [30, 10]'),\n",
       " Text(108.31764705882352, 30.19999999999999, 'X[0] <= 37.0\\ngini = 0.444\\nsamples = 30\\nvalue = [20, 10]'),\n",
       " Text(107.52988235294117, 18.120000000000005, 'gini = 0.5\\nsamples = 10\\nvalue = [5, 5]'),\n",
       " Text(109.10541176470588, 18.120000000000005, 'X[11] <= 293.0\\ngini = 0.375\\nsamples = 20\\nvalue = [15, 5]'),\n",
       " Text(108.31764705882352, 6.039999999999992, 'gini = 0.48\\nsamples = 10\\nvalue = [6, 4]'),\n",
       " Text(109.89317647058823, 6.039999999999992, 'gini = 0.18\\nsamples = 10\\nvalue = [9, 1]'),\n",
       " Text(109.89317647058823, 30.19999999999999, 'gini = 0.0\\nsamples = 10\\nvalue = [10, 0]'),\n",
       " Text(110.68094117647058, 42.28, 'gini = 0.48\\nsamples = 10\\nvalue = [4, 6]'),\n",
       " Text(111.46870588235294, 54.359999999999985, 'gini = 0.465\\nsamples = 19\\nvalue = [7, 12]'),\n",
       " Text(113.832, 90.6, 'X[2] <= 0.5\\ngini = 0.231\\nsamples = 90\\nvalue = [78, 12]'),\n",
       " Text(113.04423529411764, 78.52000000000001, 'gini = 0.48\\nsamples = 15\\nvalue = [9, 6]'),\n",
       " Text(114.61976470588235, 78.52000000000001, 'X[1] <= 4.5\\ngini = 0.147\\nsamples = 75\\nvalue = [69, 6]'),\n",
       " Text(113.832, 66.44, 'X[12] <= 1.5\\ngini = 0.266\\nsamples = 38\\nvalue = [32, 6]'),\n",
       " Text(113.04423529411764, 54.359999999999985, 'gini = 0.463\\nsamples = 11\\nvalue = [7, 4]'),\n",
       " Text(114.61976470588235, 54.359999999999985, 'X[0] <= 37.5\\ngini = 0.137\\nsamples = 27\\nvalue = [25, 2]'),\n",
       " Text(113.832, 42.28, 'gini = 0.32\\nsamples = 10\\nvalue = [8, 2]'),\n",
       " Text(115.4075294117647, 42.28, 'gini = 0.0\\nsamples = 17\\nvalue = [17, 0]'),\n",
       " Text(115.4075294117647, 66.44, 'gini = 0.0\\nsamples = 37\\nvalue = [37, 0]'),\n",
       " Text(121.11882352941176, 102.67999999999999, 'X[0] <= 32.5\\ngini = 0.499\\nsamples = 168\\nvalue = [80, 88]'),\n",
       " Text(118.55858823529411, 90.6, 'X[1] <= 7.5\\ngini = 0.381\\nsamples = 43\\nvalue = [11, 32]'),\n",
       " Text(117.77082352941176, 78.52000000000001, 'X[5] <= 1760.5\\ngini = 0.48\\nsamples = 25\\nvalue = [10, 15]'),\n",
       " Text(116.9830588235294, 66.44, 'gini = 0.486\\nsamples = 12\\nvalue = [7, 5]'),\n",
       " Text(118.55858823529411, 66.44, 'gini = 0.355\\nsamples = 13\\nvalue = [3, 10]'),\n",
       " Text(119.34635294117646, 78.52000000000001, 'gini = 0.105\\nsamples = 18\\nvalue = [1, 17]'),\n",
       " Text(123.6790588235294, 90.6, 'X[9] <= 28.5\\ngini = 0.495\\nsamples = 125\\nvalue = [69, 56]'),\n",
       " Text(122.89129411764705, 78.52000000000001, 'X[11] <= 332.0\\ngini = 0.5\\nsamples = 112\\nvalue = [57, 55]'),\n",
       " Text(120.13411764705882, 66.44, 'X[12] <= 1.5\\ngini = 0.481\\nsamples = 77\\nvalue = [46, 31]'),\n",
       " Text(118.55858823529411, 54.359999999999985, 'X[5] <= 1405.0\\ngini = 0.48\\nsamples = 25\\nvalue = [10, 15]'),\n",
       " Text(117.77082352941176, 42.28, 'gini = 0.42\\nsamples = 10\\nvalue = [7, 3]'),\n",
       " Text(119.34635294117646, 42.28, 'gini = 0.32\\nsamples = 15\\nvalue = [3, 12]'),\n",
       " Text(121.70964705882352, 54.359999999999985, 'X[9] <= 16.5\\ngini = 0.426\\nsamples = 52\\nvalue = [36, 16]'),\n",
       " Text(120.92188235294117, 42.28, 'X[5] <= 2331.0\\ngini = 0.339\\nsamples = 37\\nvalue = [29, 8]'),\n",
       " Text(120.13411764705882, 30.19999999999999, 'X[3] <= 1.5\\ngini = 0.435\\nsamples = 25\\nvalue = [17, 8]'),\n",
       " Text(119.34635294117646, 18.120000000000005, 'gini = 0.278\\nsamples = 12\\nvalue = [10, 2]'),\n",
       " Text(120.92188235294117, 18.120000000000005, 'gini = 0.497\\nsamples = 13\\nvalue = [7, 6]'),\n",
       " Text(121.70964705882352, 30.19999999999999, 'gini = 0.0\\nsamples = 12\\nvalue = [12, 0]'),\n",
       " Text(122.49741176470587, 42.28, 'gini = 0.498\\nsamples = 15\\nvalue = [7, 8]'),\n",
       " Text(125.64847058823528, 66.44, 'X[1] <= 5.5\\ngini = 0.431\\nsamples = 35\\nvalue = [11, 24]'),\n",
       " Text(124.86070588235293, 54.359999999999985, 'X[5] <= 1469.0\\ngini = 0.308\\nsamples = 21\\nvalue = [4, 17]'),\n",
       " Text(124.07294117647058, 42.28, 'gini = 0.42\\nsamples = 10\\nvalue = [3, 7]'),\n",
       " Text(125.64847058823528, 42.28, 'gini = 0.165\\nsamples = 11\\nvalue = [1, 10]'),\n",
       " Text(126.43623529411765, 54.359999999999985, 'gini = 0.5\\nsamples = 14\\nvalue = [7, 7]'),\n",
       " Text(124.46682352941176, 78.52000000000001, 'gini = 0.142\\nsamples = 13\\nvalue = [12, 1]'),\n",
       " Text(134.1169411764706, 126.84, 'X[10] <= 7.5\\ngini = 0.358\\nsamples = 240\\nvalue = [56, 184]'),\n",
       " Text(129.58729411764705, 114.75999999999999, 'X[0] <= 50.5\\ngini = 0.17\\nsamples = 96\\nvalue = [9, 87]'),\n",
       " Text(128.7995294117647, 102.67999999999999, 'X[5] <= 142.0\\ngini = 0.116\\nsamples = 81\\nvalue = [5, 76]'),\n",
       " Text(128.01176470588234, 90.6, 'gini = 0.32\\nsamples = 10\\nvalue = [2, 8]'),\n",
       " Text(129.58729411764705, 90.6, 'X[5] <= 2058.5\\ngini = 0.081\\nsamples = 71\\nvalue = [3, 68]'),\n",
       " Text(128.01176470588234, 78.52000000000001, 'X[11] <= 244.0\\ngini = 0.038\\nsamples = 51\\nvalue = [1, 50]'),\n",
       " Text(127.224, 66.44, 'gini = 0.18\\nsamples = 10\\nvalue = [1, 9]'),\n",
       " Text(128.7995294117647, 66.44, 'gini = 0.0\\nsamples = 41\\nvalue = [0, 41]'),\n",
       " Text(131.16282352941175, 78.52000000000001, 'X[0] <= 32.5\\ngini = 0.18\\nsamples = 20\\nvalue = [2, 18]'),\n",
       " Text(130.3750588235294, 66.44, 'gini = 0.0\\nsamples = 10\\nvalue = [0, 10]'),\n",
       " Text(131.9505882352941, 66.44, 'gini = 0.32\\nsamples = 10\\nvalue = [2, 8]'),\n",
       " Text(130.3750588235294, 102.67999999999999, 'gini = 0.391\\nsamples = 15\\nvalue = [4, 11]'),\n",
       " Text(138.6465882352941, 114.75999999999999, 'X[9] <= 21.5\\ngini = 0.44\\nsamples = 144\\nvalue = [47, 97]'),\n",
       " Text(136.67717647058822, 102.67999999999999, 'X[9] <= 17.5\\ngini = 0.483\\nsamples = 103\\nvalue = [42, 61]'),\n",
       " Text(135.10164705882352, 90.6, 'X[12] <= 2.5\\ngini = 0.368\\nsamples = 70\\nvalue = [17, 53]'),\n",
       " Text(134.31388235294116, 78.52000000000001, 'X[5] <= 196.5\\ngini = 0.293\\nsamples = 56\\nvalue = [10, 46]'),\n",
       " Text(133.5261176470588, 66.44, 'gini = 0.444\\nsamples = 12\\nvalue = [4, 8]'),\n",
       " Text(135.10164705882352, 66.44, 'X[11] <= 278.5\\ngini = 0.236\\nsamples = 44\\nvalue = [6, 38]'),\n",
       " Text(134.31388235294116, 54.359999999999985, 'gini = 0.0\\nsamples = 18\\nvalue = [0, 18]'),\n",
       " Text(135.88941176470587, 54.359999999999985, 'X[1] <= 6.5\\ngini = 0.355\\nsamples = 26\\nvalue = [6, 20]'),\n",
       " Text(135.10164705882352, 42.28, 'gini = 0.49\\nsamples = 14\\nvalue = [6, 8]'),\n",
       " Text(136.67717647058822, 42.28, 'gini = 0.0\\nsamples = 12\\nvalue = [0, 12]'),\n",
       " Text(135.88941176470587, 78.52000000000001, 'gini = 0.5\\nsamples = 14\\nvalue = [7, 7]'),\n",
       " Text(138.25270588235293, 90.6, 'X[0] <= 32.5\\ngini = 0.367\\nsamples = 33\\nvalue = [25, 8]'),\n",
       " Text(137.46494117647057, 78.52000000000001, 'gini = 0.0\\nsamples = 10\\nvalue = [10, 0]'),\n",
       " Text(139.04047058823528, 78.52000000000001, 'X[11] <= 308.5\\ngini = 0.454\\nsamples = 23\\nvalue = [15, 8]'),\n",
       " Text(138.25270588235293, 66.44, 'gini = 0.355\\nsamples = 13\\nvalue = [10, 3]'),\n",
       " Text(139.82823529411763, 66.44, 'gini = 0.5\\nsamples = 10\\nvalue = [5, 5]'),\n",
       " Text(140.61599999999999, 102.67999999999999, 'X[9] <= 25.5\\ngini = 0.214\\nsamples = 41\\nvalue = [5, 36]'),\n",
       " Text(139.82823529411763, 90.6, 'gini = 0.0\\nsamples = 19\\nvalue = [0, 19]'),\n",
       " Text(141.40376470588234, 90.6, 'X[10] <= 9.0\\ngini = 0.351\\nsamples = 22\\nvalue = [5, 17]'),\n",
       " Text(140.61599999999999, 78.52000000000001, 'gini = 0.48\\nsamples = 10\\nvalue = [4, 6]'),\n",
       " Text(142.1915294117647, 78.52000000000001, 'gini = 0.153\\nsamples = 12\\nvalue = [1, 11]'),\n",
       " Text(141.40376470588234, 138.92000000000002, 'X[9] <= 3.5\\ngini = 0.098\\nsamples = 97\\nvalue = [5, 92]'),\n",
       " Text(140.61599999999999, 126.84, 'gini = 0.375\\nsamples = 12\\nvalue = [3, 9]'),\n",
       " Text(142.1915294117647, 126.84, 'X[9] <= 21.5\\ngini = 0.046\\nsamples = 85\\nvalue = [2, 83]'),\n",
       " Text(141.40376470588234, 114.75999999999999, 'gini = 0.0\\nsamples = 60\\nvalue = [0, 60]'),\n",
       " Text(142.97929411764704, 114.75999999999999, 'X[0] <= 69.5\\ngini = 0.147\\nsamples = 25\\nvalue = [2, 23]'),\n",
       " Text(142.1915294117647, 102.67999999999999, 'gini = 0.0\\nsamples = 11\\nvalue = [0, 11]'),\n",
       " Text(143.7670588235294, 102.67999999999999, 'gini = 0.245\\nsamples = 14\\nvalue = [2, 12]'),\n",
       " Text(152.82635294117648, 151.0, 'X[15] <= 1.5\\ngini = 0.194\\nsamples = 495\\nvalue = [54, 441]'),\n",
       " Text(147.31199999999998, 138.92000000000002, 'X[5] <= 88.0\\ngini = 0.329\\nsamples = 217\\nvalue = [45, 172]'),\n",
       " Text(145.3425882352941, 126.84, 'X[11] <= 260.0\\ngini = 0.498\\nsamples = 30\\nvalue = [14, 16]'),\n",
       " Text(144.55482352941175, 114.75999999999999, 'gini = 0.397\\nsamples = 11\\nvalue = [8, 3]'),\n",
       " Text(146.13035294117645, 114.75999999999999, 'gini = 0.432\\nsamples = 19\\nvalue = [6, 13]'),\n",
       " Text(149.28141176470587, 126.84, 'X[1] <= 1.5\\ngini = 0.277\\nsamples = 187\\nvalue = [31, 156]'),\n",
       " Text(147.70588235294116, 114.75999999999999, 'X[1] <= 0.5\\ngini = 0.438\\nsamples = 34\\nvalue = [11, 23]'),\n",
       " Text(146.9181176470588, 102.67999999999999, 'gini = 0.198\\nsamples = 18\\nvalue = [2, 16]'),\n",
       " Text(148.4936470588235, 102.67999999999999, 'gini = 0.492\\nsamples = 16\\nvalue = [9, 7]'),\n",
       " Text(150.85694117647057, 114.75999999999999, 'X[5] <= 5488.0\\ngini = 0.227\\nsamples = 153\\nvalue = [20, 133]'),\n",
       " Text(150.06917647058822, 102.67999999999999, 'X[5] <= 2586.5\\ngini = 0.199\\nsamples = 143\\nvalue = [16, 127]'),\n",
       " Text(149.28141176470587, 90.6, 'X[5] <= 2050.5\\ngini = 0.247\\nsamples = 111\\nvalue = [16, 95]'),\n",
       " Text(148.4936470588235, 78.52000000000001, 'X[0] <= 55.5\\ngini = 0.213\\nsamples = 99\\nvalue = [12, 87]'),\n",
       " Text(147.70588235294116, 66.44, 'X[0] <= 38.5\\ngini = 0.255\\nsamples = 80\\nvalue = [12, 68]'),\n",
       " Text(146.13035294117645, 54.359999999999985, 'X[10] <= 6.5\\ngini = 0.171\\nsamples = 53\\nvalue = [5, 48]'),\n",
       " Text(145.3425882352941, 42.28, 'X[11] <= 314.0\\ngini = 0.278\\nsamples = 30\\nvalue = [5, 25]'),\n",
       " Text(144.55482352941175, 30.19999999999999, 'gini = 0.111\\nsamples = 17\\nvalue = [1, 16]'),\n",
       " Text(146.13035294117645, 30.19999999999999, 'gini = 0.426\\nsamples = 13\\nvalue = [4, 9]'),\n",
       " Text(146.9181176470588, 42.28, 'gini = 0.0\\nsamples = 23\\nvalue = [0, 23]'),\n",
       " Text(149.28141176470587, 54.359999999999985, 'X[13] <= 358.0\\ngini = 0.384\\nsamples = 27\\nvalue = [7, 20]'),\n",
       " Text(148.4936470588235, 42.28, 'gini = 0.291\\nsamples = 17\\nvalue = [3, 14]'),\n",
       " Text(150.06917647058822, 42.28, 'gini = 0.48\\nsamples = 10\\nvalue = [4, 6]'),\n",
       " Text(149.28141176470587, 66.44, 'gini = 0.0\\nsamples = 19\\nvalue = [0, 19]'),\n",
       " Text(150.06917647058822, 78.52000000000001, 'gini = 0.444\\nsamples = 12\\nvalue = [4, 8]'),\n",
       " Text(150.85694117647057, 90.6, 'gini = 0.0\\nsamples = 32\\nvalue = [0, 32]'),\n",
       " Text(151.64470588235295, 102.67999999999999, 'gini = 0.48\\nsamples = 10\\nvalue = [4, 6]'),\n",
       " Text(158.34070588235295, 138.92000000000002, 'X[8] <= 0.5\\ngini = 0.063\\nsamples = 278\\nvalue = [9, 269]'),\n",
       " Text(155.58352941176472, 126.84, 'X[1] <= 0.5\\ngini = 0.032\\nsamples = 245\\nvalue = [4, 241]'),\n",
       " Text(154.008, 114.75999999999999, 'X[11] <= 257.5\\ngini = 0.128\\nsamples = 29\\nvalue = [2, 27]'),\n",
       " Text(153.22023529411766, 102.67999999999999, 'gini = 0.32\\nsamples = 10\\nvalue = [2, 8]'),\n",
       " Text(154.79576470588236, 102.67999999999999, 'gini = 0.0\\nsamples = 19\\nvalue = [0, 19]'),\n",
       " Text(157.15905882352942, 114.75999999999999, 'X[13] <= 79.5\\ngini = 0.018\\nsamples = 216\\nvalue = [2, 214]'),\n",
       " Text(156.37129411764707, 102.67999999999999, 'gini = 0.165\\nsamples = 11\\nvalue = [1, 10]'),\n",
       " Text(157.94682352941177, 102.67999999999999, 'X[5] <= 5732.0\\ngini = 0.01\\nsamples = 205\\nvalue = [1, 204]'),\n",
       " Text(157.15905882352942, 90.6, 'gini = 0.0\\nsamples = 187\\nvalue = [0, 187]'),\n",
       " Text(158.73458823529413, 90.6, 'gini = 0.105\\nsamples = 18\\nvalue = [1, 17]'),\n",
       " Text(161.09788235294118, 126.84, 'X[13] <= 184.5\\ngini = 0.257\\nsamples = 33\\nvalue = [5, 28]'),\n",
       " Text(160.31011764705883, 114.75999999999999, 'X[9] <= 15.0\\ngini = 0.091\\nsamples = 21\\nvalue = [1, 20]'),\n",
       " Text(159.52235294117648, 102.67999999999999, 'gini = 0.0\\nsamples = 11\\nvalue = [0, 11]'),\n",
       " Text(161.09788235294118, 102.67999999999999, 'gini = 0.18\\nsamples = 10\\nvalue = [1, 9]'),\n",
       " Text(161.88564705882354, 114.75999999999999, 'gini = 0.444\\nsamples = 12\\nvalue = [4, 8]'),\n",
       " Text(192.18381617647057, 163.07999999999998, 'X[14] <= 0.5\\ngini = 0.482\\nsamples = 761\\nvalue = [452, 309]'),\n",
       " Text(177.80095588235292, 151.0, 'X[11] <= 377.5\\ngini = 0.411\\nsamples = 443\\nvalue = [315, 128]'),\n",
       " Text(168.50779411764705, 138.92000000000002, 'X[10] <= 9.5\\ngini = 0.358\\nsamples = 360\\nvalue = [276, 84]'),\n",
       " Text(167.7200294117647, 126.84, 'X[9] <= 4.5\\ngini = 0.337\\nsamples = 350\\nvalue = [275, 75]'),\n",
       " Text(163.46117647058824, 114.75999999999999, 'X[10] <= 4.0\\ngini = 0.499\\nsamples = 25\\nvalue = [12, 13]'),\n",
       " Text(162.6734117647059, 102.67999999999999, 'gini = 0.391\\nsamples = 15\\nvalue = [11, 4]'),\n",
       " Text(164.2489411764706, 102.67999999999999, 'gini = 0.18\\nsamples = 10\\nvalue = [1, 9]'),\n",
       " Text(171.97888235294118, 114.75999999999999, 'X[10] <= 3.5\\ngini = 0.309\\nsamples = 325\\nvalue = [263, 62]'),\n",
       " Text(165.8244705882353, 102.67999999999999, 'X[9] <= 20.5\\ngini = 0.411\\nsamples = 104\\nvalue = [74, 30]'),\n",
       " Text(164.2489411764706, 90.6, 'X[10] <= 2.5\\ngini = 0.326\\nsamples = 83\\nvalue = [66, 17]'),\n",
       " Text(163.46117647058824, 78.52000000000001, 'X[11] <= 273.0\\ngini = 0.239\\nsamples = 72\\nvalue = [62, 10]'),\n",
       " Text(161.88564705882354, 66.44, 'X[11] <= 222.0\\ngini = 0.089\\nsamples = 43\\nvalue = [41, 2]'),\n",
       " Text(161.09788235294118, 54.359999999999985, 'gini = 0.298\\nsamples = 11\\nvalue = [9, 2]'),\n",
       " Text(162.6734117647059, 54.359999999999985, 'gini = 0.0\\nsamples = 32\\nvalue = [32, 0]'),\n",
       " Text(165.03670588235295, 66.44, 'X[9] <= 15.5\\ngini = 0.4\\nsamples = 29\\nvalue = [21, 8]'),\n",
       " Text(164.2489411764706, 54.359999999999985, 'gini = 0.498\\nsamples = 17\\nvalue = [9, 8]'),\n",
       " Text(165.8244705882353, 54.359999999999985, 'gini = 0.0\\nsamples = 12\\nvalue = [12, 0]'),\n",
       " Text(165.03670588235295, 78.52000000000001, 'gini = 0.463\\nsamples = 11\\nvalue = [4, 7]'),\n",
       " Text(167.4, 90.6, 'X[11] <= 255.5\\ngini = 0.472\\nsamples = 21\\nvalue = [8, 13]'),\n",
       " Text(166.61223529411765, 78.52000000000001, 'gini = 0.48\\nsamples = 10\\nvalue = [6, 4]'),\n",
       " Text(168.18776470588236, 78.52000000000001, 'gini = 0.298\\nsamples = 11\\nvalue = [2, 9]'),\n",
       " Text(178.13329411764707, 102.67999999999999, 'X[0] <= 37.5\\ngini = 0.248\\nsamples = 221\\nvalue = [189, 32]'),\n",
       " Text(173.11129411764705, 90.6, 'X[10] <= 5.5\\ngini = 0.334\\nsamples = 118\\nvalue = [93, 25]'),\n",
       " Text(169.76329411764706, 78.52000000000001, 'X[9] <= 12.5\\ngini = 0.219\\nsamples = 48\\nvalue = [42, 6]'),\n",
       " Text(168.9755294117647, 66.44, 'gini = 0.42\\nsamples = 10\\nvalue = [7, 3]'),\n",
       " Text(170.55105882352942, 66.44, 'X[12] <= 3.5\\ngini = 0.145\\nsamples = 38\\nvalue = [35, 3]'),\n",
       " Text(169.76329411764706, 54.359999999999985, 'gini = 0.0\\nsamples = 27\\nvalue = [27, 0]'),\n",
       " Text(171.33882352941177, 54.359999999999985, 'gini = 0.397\\nsamples = 11\\nvalue = [8, 3]'),\n",
       " Text(176.45929411764706, 78.52000000000001, 'X[0] <= 33.5\\ngini = 0.396\\nsamples = 70\\nvalue = [51, 19]'),\n",
       " Text(174.48988235294118, 66.44, 'X[9] <= 16.0\\ngini = 0.31\\nsamples = 47\\nvalue = [38, 9]'),\n",
       " Text(172.91435294117647, 54.359999999999985, 'X[5] <= 565.0\\ngini = 0.137\\nsamples = 27\\nvalue = [25, 2]'),\n",
       " Text(172.12658823529412, 42.28, 'gini = 0.0\\nsamples = 16\\nvalue = [16, 0]'),\n",
       " Text(173.70211764705883, 42.28, 'gini = 0.298\\nsamples = 11\\nvalue = [9, 2]'),\n",
       " Text(176.06541176470589, 54.359999999999985, 'X[5] <= 564.0\\ngini = 0.455\\nsamples = 20\\nvalue = [13, 7]'),\n",
       " Text(175.27764705882353, 42.28, 'gini = 0.5\\nsamples = 10\\nvalue = [5, 5]'),\n",
       " Text(176.85317647058824, 42.28, 'gini = 0.32\\nsamples = 10\\nvalue = [8, 2]'),\n",
       " Text(178.42870588235294, 66.44, 'X[9] <= 17.0\\ngini = 0.491\\nsamples = 23\\nvalue = [13, 10]'),\n",
       " Text(177.6409411764706, 54.359999999999985, 'gini = 0.473\\nsamples = 13\\nvalue = [5, 8]'),\n",
       " Text(179.2164705882353, 54.359999999999985, 'gini = 0.32\\nsamples = 10\\nvalue = [8, 2]'),\n",
       " Text(183.15529411764706, 90.6, 'X[5] <= 1351.5\\ngini = 0.127\\nsamples = 103\\nvalue = [96, 7]'),\n",
       " Text(182.3675294117647, 78.52000000000001, 'X[9] <= 21.5\\ngini = 0.069\\nsamples = 84\\nvalue = [81, 3]'),\n",
       " Text(181.57976470588235, 66.44, 'X[5] <= 718.5\\ngini = 0.03\\nsamples = 65\\nvalue = [64, 1]'),\n",
       " Text(180.792, 54.359999999999985, 'gini = 0.0\\nsamples = 55\\nvalue = [55, 0]'),\n",
       " Text(182.3675294117647, 54.359999999999985, 'gini = 0.18\\nsamples = 10\\nvalue = [9, 1]'),\n",
       " Text(183.15529411764706, 66.44, 'gini = 0.188\\nsamples = 19\\nvalue = [17, 2]'),\n",
       " Text(183.9430588235294, 78.52000000000001, 'gini = 0.332\\nsamples = 19\\nvalue = [15, 4]'),\n",
       " Text(169.2955588235294, 126.84, 'gini = 0.18\\nsamples = 10\\nvalue = [1, 9]'),\n",
       " Text(187.09411764705882, 138.92000000000002, 'X[0] <= 29.5\\ngini = 0.498\\nsamples = 83\\nvalue = [39, 44]'),\n",
       " Text(186.30635294117647, 126.84, 'gini = 0.355\\nsamples = 13\\nvalue = [3, 10]'),\n",
       " Text(187.88188235294118, 126.84, 'X[0] <= 51.5\\ngini = 0.5\\nsamples = 70\\nvalue = [36, 34]'),\n",
       " Text(187.09411764705882, 114.75999999999999, 'X[1] <= 5.0\\ngini = 0.489\\nsamples = 54\\nvalue = [31, 23]'),\n",
       " Text(185.51858823529412, 102.67999999999999, 'X[5] <= 984.0\\ngini = 0.444\\nsamples = 33\\nvalue = [22, 11]'),\n",
       " Text(184.73082352941177, 90.6, 'gini = 0.346\\nsamples = 18\\nvalue = [14, 4]'),\n",
       " Text(186.30635294117647, 90.6, 'gini = 0.498\\nsamples = 15\\nvalue = [8, 7]'),\n",
       " Text(188.66964705882353, 102.67999999999999, 'X[10] <= 5.5\\ngini = 0.49\\nsamples = 21\\nvalue = [9, 12]'),\n",
       " Text(187.88188235294118, 90.6, 'gini = 0.48\\nsamples = 10\\nvalue = [6, 4]'),\n",
       " Text(189.45741176470588, 90.6, 'gini = 0.397\\nsamples = 11\\nvalue = [3, 8]'),\n",
       " Text(188.66964705882353, 114.75999999999999, 'gini = 0.43\\nsamples = 16\\nvalue = [5, 11]'),\n",
       " Text(206.56667647058822, 151.0, 'X[15] <= 1.5\\ngini = 0.49\\nsamples = 318\\nvalue = [137, 181]'),\n",
       " Text(203.19405882352942, 138.92000000000002, 'X[13] <= 374.5\\ngini = 0.489\\nsamples = 216\\nvalue = [124, 92]'),\n",
       " Text(200.38764705882352, 126.84, 'X[9] <= 21.5\\ngini = 0.46\\nsamples = 192\\nvalue = [123, 69]'),\n",
       " Text(197.1381176470588, 114.75999999999999, 'X[5] <= 1105.0\\ngini = 0.414\\nsamples = 164\\nvalue = [116, 48]'),\n",
       " Text(193.00235294117647, 102.67999999999999, 'X[11] <= 294.0\\ngini = 0.311\\nsamples = 114\\nvalue = [92, 22]'),\n",
       " Text(191.0329411764706, 90.6, 'X[0] <= 51.5\\ngini = 0.131\\nsamples = 57\\nvalue = [53, 4]'),\n",
       " Text(190.24517647058823, 78.52000000000001, 'X[0] <= 34.5\\ngini = 0.081\\nsamples = 47\\nvalue = [45, 2]'),\n",
       " Text(189.45741176470588, 66.44, 'gini = 0.231\\nsamples = 15\\nvalue = [13, 2]'),\n",
       " Text(191.0329411764706, 66.44, 'gini = 0.0\\nsamples = 32\\nvalue = [32, 0]'),\n",
       " Text(191.82070588235294, 78.52000000000001, 'gini = 0.32\\nsamples = 10\\nvalue = [8, 2]'),\n",
       " Text(194.97176470588235, 90.6, 'X[10] <= 3.5\\ngini = 0.432\\nsamples = 57\\nvalue = [39, 18]'),\n",
       " Text(193.39623529411764, 78.52000000000001, 'X[13] <= 275.5\\ngini = 0.18\\nsamples = 20\\nvalue = [18, 2]'),\n",
       " Text(192.6084705882353, 66.44, 'gini = 0.32\\nsamples = 10\\nvalue = [8, 2]'),\n",
       " Text(194.184, 66.44, 'gini = 0.0\\nsamples = 10\\nvalue = [10, 0]'),\n",
       " Text(196.54729411764706, 78.52000000000001, 'X[2] <= 1.5\\ngini = 0.491\\nsamples = 37\\nvalue = [21, 16]'),\n",
       " Text(195.7595294117647, 66.44, 'X[0] <= 39.5\\ngini = 0.403\\nsamples = 25\\nvalue = [18, 7]'),\n",
       " Text(194.97176470588235, 54.359999999999985, 'gini = 0.153\\nsamples = 12\\nvalue = [11, 1]'),\n",
       " Text(196.54729411764706, 54.359999999999985, 'gini = 0.497\\nsamples = 13\\nvalue = [7, 6]'),\n",
       " Text(197.3350588235294, 66.44, 'gini = 0.375\\nsamples = 12\\nvalue = [3, 9]'),\n",
       " Text(201.27388235294117, 102.67999999999999, 'X[13] <= 325.0\\ngini = 0.499\\nsamples = 50\\nvalue = [24, 26]'),\n",
       " Text(200.48611764705882, 90.6, 'X[5] <= 4195.5\\ngini = 0.46\\nsamples = 39\\nvalue = [14, 25]'),\n",
       " Text(199.69835294117647, 78.52000000000001, 'X[11] <= 293.5\\ngini = 0.346\\nsamples = 27\\nvalue = [6, 21]'),\n",
       " Text(198.9105882352941, 66.44, 'gini = 0.0\\nsamples = 10\\nvalue = [0, 10]'),\n",
       " Text(200.48611764705882, 66.44, 'gini = 0.457\\nsamples = 17\\nvalue = [6, 11]'),\n",
       " Text(201.27388235294117, 78.52000000000001, 'gini = 0.444\\nsamples = 12\\nvalue = [8, 4]'),\n",
       " Text(202.06164705882352, 90.6, 'gini = 0.165\\nsamples = 11\\nvalue = [10, 1]'),\n",
       " Text(203.63717647058823, 114.75999999999999, 'X[13] <= 162.5\\ngini = 0.375\\nsamples = 28\\nvalue = [7, 21]'),\n",
       " Text(202.84941176470588, 102.67999999999999, 'gini = 0.0\\nsamples = 12\\nvalue = [0, 12]'),\n",
       " Text(204.42494117647058, 102.67999999999999, 'gini = 0.492\\nsamples = 16\\nvalue = [7, 9]'),\n",
       " Text(206.0004705882353, 126.84, 'X[5] <= 571.5\\ngini = 0.08\\nsamples = 24\\nvalue = [1, 23]'),\n",
       " Text(205.21270588235294, 114.75999999999999, 'gini = 0.18\\nsamples = 10\\nvalue = [1, 9]'),\n",
       " Text(206.78823529411764, 114.75999999999999, 'gini = 0.0\\nsamples = 14\\nvalue = [0, 14]'),\n",
       " Text(209.93929411764705, 138.92000000000002, 'X[12] <= 2.5\\ngini = 0.222\\nsamples = 102\\nvalue = [13, 89]'),\n",
       " Text(209.1515294117647, 126.84, 'X[11] <= 225.5\\ngini = 0.169\\nsamples = 86\\nvalue = [8, 78]'),\n",
       " Text(208.36376470588235, 114.75999999999999, 'gini = 0.42\\nsamples = 10\\nvalue = [3, 7]'),\n",
       " Text(209.93929411764705, 114.75999999999999, 'X[13] <= 170.0\\ngini = 0.123\\nsamples = 76\\nvalue = [5, 71]'),\n",
       " Text(209.1515294117647, 102.67999999999999, 'gini = 0.0\\nsamples = 33\\nvalue = [0, 33]'),\n",
       " Text(210.7270588235294, 102.67999999999999, 'X[0] <= 35.5\\ngini = 0.206\\nsamples = 43\\nvalue = [5, 38]'),\n",
       " Text(209.93929411764705, 90.6, 'gini = 0.36\\nsamples = 17\\nvalue = [4, 13]'),\n",
       " Text(211.51482352941176, 90.6, 'X[5] <= 650.5\\ngini = 0.074\\nsamples = 26\\nvalue = [1, 25]'),\n",
       " Text(210.7270588235294, 78.52000000000001, 'gini = 0.18\\nsamples = 10\\nvalue = [1, 9]'),\n",
       " Text(212.3025882352941, 78.52000000000001, 'gini = 0.0\\nsamples = 16\\nvalue = [0, 16]'),\n",
       " Text(210.7270588235294, 126.84, 'gini = 0.43\\nsamples = 16\\nvalue = [5, 11]'),\n",
       " Text(219.98329411764706, 175.16, 'X[11] <= 367.0\\ngini = 0.121\\nsamples = 401\\nvalue = [375, 26]'),\n",
       " Text(216.63529411764705, 163.07999999999998, 'X[5] <= 3208.5\\ngini = 0.077\\nsamples = 323\\nvalue = [310, 13]'),\n",
       " Text(214.66588235294117, 151.0, 'X[3] <= 1.5\\ngini = 0.047\\nsamples = 288\\nvalue = [281, 7]'),\n",
       " Text(213.09035294117646, 138.92000000000002, 'X[9] <= 5.5\\ngini = 0.018\\nsamples = 217\\nvalue = [215, 2]'),\n",
       " Text(212.3025882352941, 126.84, 'gini = 0.188\\nsamples = 19\\nvalue = [17, 2]'),\n",
       " Text(213.87811764705882, 126.84, 'gini = 0.0\\nsamples = 198\\nvalue = [198, 0]'),\n",
       " Text(216.24141176470587, 138.92000000000002, 'X[11] <= 301.5\\ngini = 0.131\\nsamples = 71\\nvalue = [66, 5]'),\n",
       " Text(215.45364705882352, 126.84, 'X[11] <= 230.5\\ngini = 0.073\\nsamples = 53\\nvalue = [51, 2]'),\n",
       " Text(214.66588235294117, 114.75999999999999, 'gini = 0.278\\nsamples = 12\\nvalue = [10, 2]'),\n",
       " Text(216.24141176470587, 114.75999999999999, 'gini = 0.0\\nsamples = 41\\nvalue = [41, 0]'),\n",
       " Text(217.02917647058823, 126.84, 'gini = 0.278\\nsamples = 18\\nvalue = [15, 3]'),\n",
       " Text(218.60470588235293, 151.0, 'X[12] <= 1.5\\ngini = 0.284\\nsamples = 35\\nvalue = [29, 6]'),\n",
       " Text(217.81694117647058, 138.92000000000002, 'gini = 0.49\\nsamples = 14\\nvalue = [8, 6]'),\n",
       " Text(219.39247058823528, 138.92000000000002, 'gini = 0.0\\nsamples = 21\\nvalue = [21, 0]'),\n",
       " Text(223.33129411764705, 163.07999999999998, 'X[10] <= 7.0\\ngini = 0.278\\nsamples = 78\\nvalue = [65, 13]'),\n",
       " Text(221.75576470588234, 151.0, 'X[0] <= 35.5\\ngini = 0.438\\nsamples = 34\\nvalue = [23, 11]'),\n",
       " Text(220.968, 138.92000000000002, 'gini = 0.496\\nsamples = 11\\nvalue = [5, 6]'),\n",
       " Text(222.5435294117647, 138.92000000000002, 'X[3] <= 1.5\\ngini = 0.34\\nsamples = 23\\nvalue = [18, 5]'),\n",
       " Text(221.75576470588234, 126.84, 'gini = 0.26\\nsamples = 13\\nvalue = [11, 2]'),\n",
       " Text(223.33129411764705, 126.84, 'gini = 0.42\\nsamples = 10\\nvalue = [7, 3]'),\n",
       " Text(224.90682352941175, 151.0, 'X[0] <= 31.5\\ngini = 0.087\\nsamples = 44\\nvalue = [42, 2]'),\n",
       " Text(224.1190588235294, 138.92000000000002, 'gini = 0.298\\nsamples = 11\\nvalue = [9, 2]'),\n",
       " Text(225.6945882352941, 138.92000000000002, 'gini = 0.0\\nsamples = 33\\nvalue = [33, 0]'),\n",
       " Text(280.5834788602941, 187.24, 'X[11] <= 637.5\\ngini = 0.311\\nsamples = 2229\\nvalue = [430, 1799]'),\n",
       " Text(261.7071286764706, 175.16, 'X[8] <= 1.5\\ngini = 0.403\\nsamples = 890\\nvalue = [249, 641]'),\n",
       " Text(251.29078676470587, 163.07999999999998, 'X[7] <= 0.5\\ngini = 0.355\\nsamples = 731\\nvalue = [169, 562]'),\n",
       " Text(240.30516176470587, 151.0, 'X[6] <= 0.5\\ngini = 0.329\\nsamples = 654\\nvalue = [136, 518]'),\n",
       " Text(232.66138235294116, 138.92000000000002, 'X[13] <= 79.0\\ngini = 0.266\\nsamples = 399\\nvalue = [63, 336]'),\n",
       " Text(224.90682352941175, 126.84, 'X[1] <= 2.5\\ngini = 0.305\\nsamples = 288\\nvalue = [54, 234]'),\n",
       " Text(221.90347058823528, 114.75999999999999, 'X[11] <= 574.0\\ngini = 0.423\\nsamples = 56\\nvalue = [17, 39]'),\n",
       " Text(221.11570588235293, 102.67999999999999, 'X[11] <= 500.0\\ngini = 0.364\\nsamples = 46\\nvalue = [11, 35]'),\n",
       " Text(219.54017647058822, 90.6, 'X[5] <= 680.5\\ngini = 0.463\\nsamples = 22\\nvalue = [8, 14]'),\n",
       " Text(218.75241176470587, 78.52000000000001, 'gini = 0.42\\nsamples = 10\\nvalue = [7, 3]'),\n",
       " Text(220.32794117647057, 78.52000000000001, 'gini = 0.153\\nsamples = 12\\nvalue = [1, 11]'),\n",
       " Text(222.69123529411763, 90.6, 'X[0] <= 37.0\\ngini = 0.219\\nsamples = 24\\nvalue = [3, 21]'),\n",
       " Text(221.90347058823528, 78.52000000000001, 'gini = 0.42\\nsamples = 10\\nvalue = [3, 7]'),\n",
       " Text(223.47899999999998, 78.52000000000001, 'gini = 0.0\\nsamples = 14\\nvalue = [0, 14]'),\n",
       " Text(222.69123529411763, 102.67999999999999, 'gini = 0.48\\nsamples = 10\\nvalue = [6, 4]'),\n",
       " Text(227.91017647058823, 114.75999999999999, 'X[2] <= 0.5\\ngini = 0.268\\nsamples = 232\\nvalue = [37, 195]'),\n",
       " Text(225.0545294117647, 102.67999999999999, 'X[5] <= 1711.5\\ngini = 0.061\\nsamples = 32\\nvalue = [1, 31]'),\n",
       " Text(224.26676470588234, 90.6, 'gini = 0.0\\nsamples = 22\\nvalue = [0, 22]'),\n",
       " Text(225.84229411764704, 90.6, 'gini = 0.18\\nsamples = 10\\nvalue = [1, 9]'),\n",
       " Text(230.76582352941176, 102.67999999999999, 'X[0] <= 46.5\\ngini = 0.295\\nsamples = 200\\nvalue = [36, 164]'),\n",
       " Text(227.41782352941175, 90.6, 'X[5] <= 36.5\\ngini = 0.223\\nsamples = 133\\nvalue = [17, 116]'),\n",
       " Text(226.6300588235294, 78.52000000000001, 'gini = 0.42\\nsamples = 10\\nvalue = [3, 7]'),\n",
       " Text(228.2055882352941, 78.52000000000001, 'X[0] <= 35.5\\ngini = 0.202\\nsamples = 123\\nvalue = [14, 109]'),\n",
       " Text(226.23617647058822, 66.44, 'X[2] <= 1.5\\ngini = 0.243\\nsamples = 92\\nvalue = [13, 79]'),\n",
       " Text(224.6606470588235, 54.359999999999985, 'X[5] <= 1129.0\\ngini = 0.42\\nsamples = 20\\nvalue = [6, 14]'),\n",
       " Text(223.87288235294116, 42.28, 'gini = 0.5\\nsamples = 10\\nvalue = [5, 5]'),\n",
       " Text(225.44841176470587, 42.28, 'gini = 0.18\\nsamples = 10\\nvalue = [1, 9]'),\n",
       " Text(227.81170588235292, 54.359999999999985, 'X[5] <= 2422.5\\ngini = 0.176\\nsamples = 72\\nvalue = [7, 65]'),\n",
       " Text(227.02394117647057, 42.28, 'X[0] <= 32.5\\ngini = 0.07\\nsamples = 55\\nvalue = [2, 53]'),\n",
       " Text(226.23617647058822, 30.19999999999999, 'gini = 0.0\\nsamples = 43\\nvalue = [0, 43]'),\n",
       " Text(227.81170588235292, 30.19999999999999, 'gini = 0.278\\nsamples = 12\\nvalue = [2, 10]'),\n",
       " Text(228.59947058823528, 42.28, 'gini = 0.415\\nsamples = 17\\nvalue = [5, 12]'),\n",
       " Text(230.17499999999998, 66.44, 'X[11] <= 518.5\\ngini = 0.062\\nsamples = 31\\nvalue = [1, 30]'),\n",
       " Text(229.38723529411763, 54.359999999999985, 'gini = 0.18\\nsamples = 10\\nvalue = [1, 9]'),\n",
       " Text(230.96276470588234, 54.359999999999985, 'gini = 0.0\\nsamples = 21\\nvalue = [0, 21]'),\n",
       " Text(234.11382352941175, 90.6, 'X[9] <= 13.5\\ngini = 0.406\\nsamples = 67\\nvalue = [19, 48]'),\n",
       " Text(232.53829411764704, 78.52000000000001, 'X[11] <= 511.5\\ngini = 0.208\\nsamples = 34\\nvalue = [4, 30]'),\n",
       " Text(231.7505294117647, 66.44, 'gini = 0.346\\nsamples = 18\\nvalue = [4, 14]'),\n",
       " Text(233.3260588235294, 66.44, 'gini = 0.0\\nsamples = 16\\nvalue = [0, 16]'),\n",
       " Text(235.68935294117645, 78.52000000000001, 'X[11] <= 515.0\\ngini = 0.496\\nsamples = 33\\nvalue = [15, 18]'),\n",
       " Text(234.9015882352941, 66.44, 'gini = 0.388\\nsamples = 19\\nvalue = [5, 14]'),\n",
       " Text(236.4771176470588, 66.44, 'gini = 0.408\\nsamples = 14\\nvalue = [10, 4]'),\n",
       " Text(240.4159411764706, 126.84, 'X[3] <= 1.5\\ngini = 0.149\\nsamples = 111\\nvalue = [9, 102]'),\n",
       " Text(239.62817647058824, 114.75999999999999, 'X[2] <= 1.5\\ngini = 0.23\\nsamples = 68\\nvalue = [9, 59]'),\n",
       " Text(238.84041176470586, 102.67999999999999, 'X[15] <= 1.5\\ngini = 0.165\\nsamples = 55\\nvalue = [5, 50]'),\n",
       " Text(238.0526470588235, 90.6, 'X[13] <= 189.5\\ngini = 0.311\\nsamples = 26\\nvalue = [5, 21]'),\n",
       " Text(237.26488235294116, 78.52000000000001, 'gini = 0.459\\nsamples = 14\\nvalue = [5, 9]'),\n",
       " Text(238.84041176470586, 78.52000000000001, 'gini = 0.0\\nsamples = 12\\nvalue = [0, 12]'),\n",
       " Text(239.62817647058824, 90.6, 'gini = 0.0\\nsamples = 29\\nvalue = [0, 29]'),\n",
       " Text(240.4159411764706, 102.67999999999999, 'gini = 0.426\\nsamples = 13\\nvalue = [4, 9]'),\n",
       " Text(241.20370588235295, 114.75999999999999, 'gini = 0.0\\nsamples = 43\\nvalue = [0, 43]'),\n",
       " Text(247.94894117647058, 138.92000000000002, 'X[5] <= 13.5\\ngini = 0.409\\nsamples = 255\\nvalue = [73, 182]'),\n",
       " Text(243.567, 126.84, 'X[5] <= -323.0\\ngini = 0.5\\nsamples = 43\\nvalue = [21, 22]'),\n",
       " Text(242.77923529411765, 114.75999999999999, 'gini = 0.32\\nsamples = 10\\nvalue = [2, 8]'),\n",
       " Text(244.35476470588236, 114.75999999999999, 'X[10] <= 6.0\\ngini = 0.489\\nsamples = 33\\nvalue = [19, 14]'),\n",
       " Text(243.567, 102.67999999999999, 'gini = 0.43\\nsamples = 16\\nvalue = [11, 5]'),\n",
       " Text(245.1425294117647, 102.67999999999999, 'gini = 0.498\\nsamples = 17\\nvalue = [8, 9]'),\n",
       " Text(252.33088235294116, 126.84, 'X[11] <= 478.5\\ngini = 0.37\\nsamples = 212\\nvalue = [52, 160]'),\n",
       " Text(248.29358823529412, 114.75999999999999, 'X[0] <= 37.5\\ngini = 0.476\\nsamples = 46\\nvalue = [18, 28]'),\n",
       " Text(246.71805882352942, 102.67999999999999, 'X[11] <= 460.5\\ngini = 0.497\\nsamples = 26\\nvalue = [14, 12]'),\n",
       " Text(245.93029411764707, 90.6, 'gini = 0.43\\nsamples = 16\\nvalue = [5, 11]'),\n",
       " Text(247.50582352941177, 90.6, 'gini = 0.18\\nsamples = 10\\nvalue = [9, 1]'),\n",
       " Text(249.86911764705883, 102.67999999999999, 'X[0] <= 44.5\\ngini = 0.32\\nsamples = 20\\nvalue = [4, 16]'),\n",
       " Text(249.08135294117648, 90.6, 'gini = 0.42\\nsamples = 10\\nvalue = [3, 7]'),\n",
       " Text(250.65688235294118, 90.6, 'gini = 0.18\\nsamples = 10\\nvalue = [1, 9]'),\n",
       " Text(256.36817647058825, 114.75999999999999, 'X[1] <= 1.5\\ngini = 0.326\\nsamples = 166\\nvalue = [34, 132]'),\n",
       " Text(253.02017647058824, 102.67999999999999, 'X[5] <= 1809.5\\ngini = 0.222\\nsamples = 63\\nvalue = [8, 55]'),\n",
       " Text(252.2324117647059, 90.6, 'X[11] <= 579.5\\ngini = 0.14\\nsamples = 53\\nvalue = [4, 49]'),\n",
       " Text(251.44464705882353, 78.52000000000001, 'gini = 0.0\\nsamples = 26\\nvalue = [0, 26]'),\n",
       " Text(253.02017647058824, 78.52000000000001, 'X[11] <= 609.5\\ngini = 0.252\\nsamples = 27\\nvalue = [4, 23]'),\n",
       " Text(252.2324117647059, 66.44, 'gini = 0.355\\nsamples = 13\\nvalue = [3, 10]'),\n",
       " Text(253.8079411764706, 66.44, 'gini = 0.133\\nsamples = 14\\nvalue = [1, 13]'),\n",
       " Text(253.8079411764706, 90.6, 'gini = 0.48\\nsamples = 10\\nvalue = [4, 6]'),\n",
       " Text(259.7161764705882, 102.67999999999999, 'X[9] <= 20.5\\ngini = 0.377\\nsamples = 103\\nvalue = [26, 77]'),\n",
       " Text(257.74676470588236, 90.6, 'X[10] <= 5.5\\ngini = 0.314\\nsamples = 77\\nvalue = [15, 62]'),\n",
       " Text(256.17123529411765, 78.52000000000001, 'X[0] <= 41.5\\ngini = 0.422\\nsamples = 33\\nvalue = [10, 23]'),\n",
       " Text(255.3834705882353, 66.44, 'X[10] <= 4.0\\ngini = 0.34\\nsamples = 23\\nvalue = [5, 18]'),\n",
       " Text(254.59570588235295, 54.359999999999985, 'gini = 0.142\\nsamples = 13\\nvalue = [1, 12]'),\n",
       " Text(256.17123529411765, 54.359999999999985, 'gini = 0.48\\nsamples = 10\\nvalue = [4, 6]'),\n",
       " Text(256.959, 66.44, 'gini = 0.5\\nsamples = 10\\nvalue = [5, 5]'),\n",
       " Text(259.32229411764706, 78.52000000000001, 'X[11] <= 533.5\\ngini = 0.201\\nsamples = 44\\nvalue = [5, 39]'),\n",
       " Text(258.5345294117647, 66.44, 'gini = 0.0\\nsamples = 17\\nvalue = [0, 17]'),\n",
       " Text(260.1100588235294, 66.44, 'X[1] <= 5.0\\ngini = 0.302\\nsamples = 27\\nvalue = [5, 22]'),\n",
       " Text(259.32229411764706, 54.359999999999985, 'gini = 0.142\\nsamples = 13\\nvalue = [1, 12]'),\n",
       " Text(260.89782352941177, 54.359999999999985, 'gini = 0.408\\nsamples = 14\\nvalue = [4, 10]'),\n",
       " Text(261.6855882352941, 90.6, 'X[9] <= 23.5\\ngini = 0.488\\nsamples = 26\\nvalue = [11, 15]'),\n",
       " Text(260.89782352941177, 78.52000000000001, 'gini = 0.48\\nsamples = 10\\nvalue = [6, 4]'),\n",
       " Text(262.4733529411765, 78.52000000000001, 'gini = 0.43\\nsamples = 16\\nvalue = [5, 11]'),\n",
       " Text(262.27641176470587, 151.0, 'X[9] <= 16.5\\ngini = 0.49\\nsamples = 77\\nvalue = [33, 44]'),\n",
       " Text(260.307, 138.92000000000002, 'X[11] <= 521.0\\ngini = 0.498\\nsamples = 47\\nvalue = [25, 22]'),\n",
       " Text(258.7314705882353, 126.84, 'X[11] <= 486.0\\ngini = 0.375\\nsamples = 20\\nvalue = [15, 5]'),\n",
       " Text(257.94370588235296, 114.75999999999999, 'gini = 0.48\\nsamples = 10\\nvalue = [6, 4]'),\n",
       " Text(259.51923529411766, 114.75999999999999, 'gini = 0.18\\nsamples = 10\\nvalue = [9, 1]'),\n",
       " Text(261.8825294117647, 126.84, 'X[0] <= 34.0\\ngini = 0.466\\nsamples = 27\\nvalue = [10, 17]'),\n",
       " Text(261.09476470588237, 114.75999999999999, 'gini = 0.497\\nsamples = 13\\nvalue = [6, 7]'),\n",
       " Text(262.6702941176471, 114.75999999999999, 'gini = 0.408\\nsamples = 14\\nvalue = [4, 10]'),\n",
       " Text(264.2458235294118, 138.92000000000002, 'X[12] <= 1.5\\ngini = 0.391\\nsamples = 30\\nvalue = [8, 22]'),\n",
       " Text(263.4580588235294, 126.84, 'gini = 0.219\\nsamples = 16\\nvalue = [2, 14]'),\n",
       " Text(265.03358823529413, 126.84, 'gini = 0.49\\nsamples = 14\\nvalue = [6, 8]'),\n",
       " Text(272.1234705882353, 163.07999999999998, 'X[10] <= 7.5\\ngini = 0.5\\nsamples = 159\\nvalue = [80, 79]'),\n",
       " Text(268.9724117647059, 151.0, 'X[0] <= 46.5\\ngini = 0.457\\nsamples = 68\\nvalue = [24, 44]'),\n",
       " Text(267.3968823529412, 138.92000000000002, 'X[2] <= 1.5\\ngini = 0.395\\nsamples = 48\\nvalue = [13, 35]'),\n",
       " Text(266.60911764705884, 126.84, 'X[1] <= 5.0\\ngini = 0.48\\nsamples = 30\\nvalue = [12, 18]'),\n",
       " Text(265.8213529411765, 114.75999999999999, 'X[9] <= 4.5\\ngini = 0.495\\nsamples = 20\\nvalue = [11, 9]'),\n",
       " Text(265.03358823529413, 102.67999999999999, 'gini = 0.42\\nsamples = 10\\nvalue = [7, 3]'),\n",
       " Text(266.60911764705884, 102.67999999999999, 'gini = 0.48\\nsamples = 10\\nvalue = [4, 6]'),\n",
       " Text(267.3968823529412, 114.75999999999999, 'gini = 0.18\\nsamples = 10\\nvalue = [1, 9]'),\n",
       " Text(268.18464705882354, 126.84, 'gini = 0.105\\nsamples = 18\\nvalue = [1, 17]'),\n",
       " Text(270.5479411764706, 138.92000000000002, 'X[11] <= 523.0\\ngini = 0.495\\nsamples = 20\\nvalue = [11, 9]'),\n",
       " Text(269.76017647058825, 126.84, 'gini = 0.42\\nsamples = 10\\nvalue = [3, 7]'),\n",
       " Text(271.33570588235295, 126.84, 'gini = 0.32\\nsamples = 10\\nvalue = [8, 2]'),\n",
       " Text(275.2745294117647, 151.0, 'X[11] <= 499.0\\ngini = 0.473\\nsamples = 91\\nvalue = [56, 35]'),\n",
       " Text(273.699, 138.92000000000002, 'X[9] <= 15.5\\ngini = 0.312\\nsamples = 31\\nvalue = [25, 6]'),\n",
       " Text(272.91123529411766, 126.84, 'gini = 0.49\\nsamples = 14\\nvalue = [8, 6]'),\n",
       " Text(274.48676470588236, 126.84, 'gini = 0.0\\nsamples = 17\\nvalue = [17, 0]'),\n",
       " Text(276.8500588235294, 138.92000000000002, 'X[9] <= 12.5\\ngini = 0.499\\nsamples = 60\\nvalue = [31, 29]'),\n",
       " Text(276.06229411764707, 126.84, 'gini = 0.444\\nsamples = 15\\nvalue = [10, 5]'),\n",
       " Text(277.6378235294118, 126.84, 'X[9] <= 24.5\\ngini = 0.498\\nsamples = 45\\nvalue = [21, 24]'),\n",
       " Text(276.06229411764707, 114.75999999999999, 'X[5] <= 647.5\\ngini = 0.444\\nsamples = 24\\nvalue = [8, 16]'),\n",
       " Text(275.2745294117647, 102.67999999999999, 'gini = 0.337\\nsamples = 14\\nvalue = [3, 11]'),\n",
       " Text(276.8500588235294, 102.67999999999999, 'gini = 0.5\\nsamples = 10\\nvalue = [5, 5]'),\n",
       " Text(279.2133529411765, 114.75999999999999, 'X[0] <= 36.5\\ngini = 0.472\\nsamples = 21\\nvalue = [13, 8]'),\n",
       " Text(278.42558823529413, 102.67999999999999, 'gini = 0.496\\nsamples = 11\\nvalue = [5, 6]'),\n",
       " Text(280.00111764705883, 102.67999999999999, 'gini = 0.32\\nsamples = 10\\nvalue = [8, 2]'),\n",
       " Text(299.4598290441176, 175.16, 'X[11] <= 794.5\\ngini = 0.234\\nsamples = 1339\\nvalue = [181, 1158]'),\n",
       " Text(287.4448786764706, 163.07999999999998, 'X[10] <= 0.5\\ngini = 0.293\\nsamples = 471\\nvalue = [84, 387]'),\n",
       " Text(283.76761764705884, 151.0, 'X[9] <= 20.5\\ngini = 0.46\\nsamples = 39\\nvalue = [14, 25]'),\n",
       " Text(282.9798529411765, 138.92000000000002, 'X[11] <= 703.0\\ngini = 0.493\\nsamples = 25\\nvalue = [14, 11]'),\n",
       " Text(282.19208823529414, 126.84, 'gini = 0.298\\nsamples = 11\\nvalue = [9, 2]'),\n",
       " Text(283.76761764705884, 126.84, 'gini = 0.459\\nsamples = 14\\nvalue = [5, 9]'),\n",
       " Text(284.5553823529412, 138.92000000000002, 'gini = 0.0\\nsamples = 14\\nvalue = [0, 14]'),\n",
       " Text(291.1221397058823, 151.0, 'X[11] <= 785.5\\ngini = 0.272\\nsamples = 432\\nvalue = [70, 362]'),\n",
       " Text(288.4080441176471, 138.92000000000002, 'X[8] <= 0.5\\ngini = 0.256\\nsamples = 411\\nvalue = [62, 349]'),\n",
       " Text(285.34314705882355, 126.84, 'X[14] <= 1.5\\ngini = 0.218\\nsamples = 313\\nvalue = [39, 274]'),\n",
       " Text(284.5553823529412, 114.75999999999999, 'X[9] <= 27.5\\ngini = 0.252\\nsamples = 264\\nvalue = [39, 225]'),\n",
       " Text(281.57664705882354, 102.67999999999999, 'X[5] <= 182.0\\ngini = 0.224\\nsamples = 234\\nvalue = [30, 204]'),\n",
       " Text(277.9824705882353, 90.6, 'X[9] <= 16.5\\ngini = 0.112\\nsamples = 67\\nvalue = [4, 63]'),\n",
       " Text(276.4069411764706, 78.52000000000001, 'X[11] <= 673.0\\ngini = 0.049\\nsamples = 40\\nvalue = [1, 39]'),\n",
       " Text(275.61917647058823, 66.44, 'gini = 0.18\\nsamples = 10\\nvalue = [1, 9]'),\n",
       " Text(277.19470588235293, 66.44, 'gini = 0.0\\nsamples = 30\\nvalue = [0, 30]'),\n",
       " Text(279.558, 78.52000000000001, 'X[11] <= 693.0\\ngini = 0.198\\nsamples = 27\\nvalue = [3, 24]'),\n",
       " Text(278.77023529411764, 66.44, 'gini = 0.0\\nsamples = 15\\nvalue = [0, 15]'),\n",
       " Text(280.34576470588235, 66.44, 'gini = 0.375\\nsamples = 12\\nvalue = [3, 9]'),\n",
       " Text(285.17082352941173, 90.6, 'X[5] <= 399.0\\ngini = 0.263\\nsamples = 167\\nvalue = [26, 141]'),\n",
       " Text(282.7090588235294, 78.52000000000001, 'X[2] <= 1.5\\ngini = 0.412\\nsamples = 31\\nvalue = [9, 22]'),\n",
       " Text(281.92129411764705, 66.44, 'gini = 0.494\\nsamples = 18\\nvalue = [8, 10]'),\n",
       " Text(283.49682352941176, 66.44, 'gini = 0.142\\nsamples = 13\\nvalue = [1, 12]'),\n",
       " Text(287.6325882352941, 78.52000000000001, 'X[12] <= 2.5\\ngini = 0.219\\nsamples = 136\\nvalue = [17, 119]'),\n",
       " Text(285.07235294117646, 66.44, 'X[3] <= 1.5\\ngini = 0.278\\nsamples = 90\\nvalue = [15, 75]'),\n",
       " Text(282.31517647058826, 54.359999999999985, 'X[9] <= 15.5\\ngini = 0.191\\nsamples = 56\\nvalue = [6, 50]'),\n",
       " Text(280.73964705882355, 42.28, 'X[5] <= 899.0\\ngini = 0.057\\nsamples = 34\\nvalue = [1, 33]'),\n",
       " Text(279.9518823529412, 30.19999999999999, 'gini = 0.18\\nsamples = 10\\nvalue = [1, 9]'),\n",
       " Text(281.5274117647059, 30.19999999999999, 'gini = 0.0\\nsamples = 24\\nvalue = [0, 24]'),\n",
       " Text(283.89070588235296, 42.28, 'X[5] <= 1673.0\\ngini = 0.351\\nsamples = 22\\nvalue = [5, 17]'),\n",
       " Text(283.1029411764706, 30.19999999999999, 'gini = 0.18\\nsamples = 10\\nvalue = [1, 9]'),\n",
       " Text(284.6784705882353, 30.19999999999999, 'gini = 0.444\\nsamples = 12\\nvalue = [4, 8]'),\n",
       " Text(287.8295294117647, 54.359999999999985, 'X[6] <= 0.5\\ngini = 0.389\\nsamples = 34\\nvalue = [9, 25]'),\n",
       " Text(287.0417647058824, 42.28, 'X[5] <= 1147.5\\ngini = 0.236\\nsamples = 22\\nvalue = [3, 19]'),\n",
       " Text(286.254, 30.19999999999999, 'gini = 0.0\\nsamples = 10\\nvalue = [0, 10]'),\n",
       " Text(287.8295294117647, 30.19999999999999, 'gini = 0.375\\nsamples = 12\\nvalue = [3, 9]'),\n",
       " Text(288.6172941176471, 42.28, 'gini = 0.5\\nsamples = 12\\nvalue = [6, 6]'),\n",
       " Text(290.1928235294118, 66.44, 'X[12] <= 5.5\\ngini = 0.083\\nsamples = 46\\nvalue = [2, 44]'),\n",
       " Text(289.40505882352943, 54.359999999999985, 'gini = 0.0\\nsamples = 31\\nvalue = [0, 31]'),\n",
       " Text(290.98058823529414, 54.359999999999985, 'gini = 0.231\\nsamples = 15\\nvalue = [2, 13]'),\n",
       " Text(287.5341176470588, 102.67999999999999, 'X[11] <= 687.0\\ngini = 0.42\\nsamples = 30\\nvalue = [9, 21]'),\n",
       " Text(286.74635294117644, 90.6, 'gini = 0.463\\nsamples = 11\\nvalue = [7, 4]'),\n",
       " Text(288.32188235294115, 90.6, 'gini = 0.188\\nsamples = 19\\nvalue = [2, 17]'),\n",
       " Text(286.1309117647059, 114.75999999999999, 'gini = 0.0\\nsamples = 49\\nvalue = [0, 49]'),\n",
       " Text(291.47294117647056, 126.84, 'X[0] <= 32.5\\ngini = 0.359\\nsamples = 98\\nvalue = [23, 75]'),\n",
       " Text(289.89741176470585, 114.75999999999999, 'X[10] <= 7.0\\ngini = 0.133\\nsamples = 28\\nvalue = [2, 26]'),\n",
       " Text(289.1096470588235, 102.67999999999999, 'gini = 0.32\\nsamples = 10\\nvalue = [2, 8]'),\n",
       " Text(290.6851764705882, 102.67999999999999, 'gini = 0.0\\nsamples = 18\\nvalue = [0, 18]'),\n",
       " Text(293.04847058823526, 114.75999999999999, 'X[5] <= 200.5\\ngini = 0.42\\nsamples = 70\\nvalue = [21, 49]'),\n",
       " Text(292.2607058823529, 102.67999999999999, 'gini = 0.499\\nsamples = 19\\nvalue = [10, 9]'),\n",
       " Text(293.8362352941176, 102.67999999999999, 'X[11] <= 668.5\\ngini = 0.338\\nsamples = 51\\nvalue = [11, 40]'),\n",
       " Text(293.04847058823526, 90.6, 'gini = 0.486\\nsamples = 12\\nvalue = [5, 7]'),\n",
       " Text(294.62399999999997, 90.6, 'X[11] <= 716.5\\ngini = 0.26\\nsamples = 39\\nvalue = [6, 33]'),\n",
       " Text(293.8362352941176, 78.52000000000001, 'gini = 0.0\\nsamples = 15\\nvalue = [0, 15]'),\n",
       " Text(295.4117647058823, 78.52000000000001, 'X[1] <= 4.5\\ngini = 0.375\\nsamples = 24\\nvalue = [6, 18]'),\n",
       " Text(294.62399999999997, 66.44, 'gini = 0.473\\nsamples = 13\\nvalue = [5, 8]'),\n",
       " Text(296.1995294117647, 66.44, 'gini = 0.165\\nsamples = 11\\nvalue = [1, 10]'),\n",
       " Text(293.8362352941176, 138.92000000000002, 'X[6] <= 0.5\\ngini = 0.472\\nsamples = 21\\nvalue = [8, 13]'),\n",
       " Text(293.04847058823526, 126.84, 'gini = 0.463\\nsamples = 11\\nvalue = [7, 4]'),\n",
       " Text(294.62399999999997, 126.84, 'gini = 0.18\\nsamples = 10\\nvalue = [1, 9]'),\n",
       " Text(311.4747794117647, 163.07999999999998, 'X[14] <= 5.5\\ngini = 0.199\\nsamples = 868\\nvalue = [97, 771]'),\n",
       " Text(306.1204411764706, 151.0, 'X[5] <= 142.0\\ngini = 0.19\\nsamples = 837\\nvalue = [89, 748]'),\n",
       " Text(297.7750588235294, 138.92000000000002, 'X[1] <= 1.5\\ngini = 0.122\\nsamples = 199\\nvalue = [13, 186]'),\n",
       " Text(296.1995294117647, 126.84, 'X[11] <= 859.5\\ngini = 0.027\\nsamples = 72\\nvalue = [1, 71]'),\n",
       " Text(295.4117647058823, 114.75999999999999, 'gini = 0.18\\nsamples = 10\\nvalue = [1, 9]'),\n",
       " Text(296.987294117647, 114.75999999999999, 'gini = 0.0\\nsamples = 62\\nvalue = [0, 62]'),\n",
       " Text(299.3505882352941, 126.84, 'X[9] <= 3.5\\ngini = 0.171\\nsamples = 127\\nvalue = [12, 115]'),\n",
       " Text(298.56282352941173, 114.75999999999999, 'gini = 0.397\\nsamples = 11\\nvalue = [3, 8]'),\n",
       " Text(300.13835294117644, 114.75999999999999, 'X[11] <= 977.5\\ngini = 0.143\\nsamples = 116\\nvalue = [9, 107]'),\n",
       " Text(298.56282352941173, 102.67999999999999, 'X[5] <= 14.0\\ngini = 0.237\\nsamples = 51\\nvalue = [7, 44]'),\n",
       " Text(297.7750588235294, 90.6, 'X[9] <= 16.5\\ngini = 0.342\\nsamples = 32\\nvalue = [7, 25]'),\n",
       " Text(296.987294117647, 78.52000000000001, 'gini = 0.117\\nsamples = 16\\nvalue = [1, 15]'),\n",
       " Text(298.56282352941173, 78.52000000000001, 'gini = 0.469\\nsamples = 16\\nvalue = [6, 10]'),\n",
       " Text(299.3505882352941, 90.6, 'gini = 0.0\\nsamples = 19\\nvalue = [0, 19]'),\n",
       " Text(301.71388235294114, 102.67999999999999, 'X[9] <= 9.5\\ngini = 0.06\\nsamples = 65\\nvalue = [2, 63]'),\n",
       " Text(300.9261176470588, 90.6, 'gini = 0.278\\nsamples = 12\\nvalue = [2, 10]'),\n",
       " Text(302.50164705882355, 90.6, 'gini = 0.0\\nsamples = 53\\nvalue = [0, 53]'),\n",
       " Text(314.46582352941175, 138.92000000000002, 'X[5] <= 181.0\\ngini = 0.21\\nsamples = 638\\nvalue = [76, 562]'),\n",
       " Text(313.6780588235294, 126.84, 'gini = 0.463\\nsamples = 11\\nvalue = [4, 7]'),\n",
       " Text(315.2535882352941, 126.84, 'X[5] <= 694.5\\ngini = 0.203\\nsamples = 627\\nvalue = [72, 555]'),\n",
       " Text(307.22823529411767, 114.75999999999999, 'X[5] <= 226.5\\ngini = 0.254\\nsamples = 235\\nvalue = [35, 200]'),\n",
       " Text(306.4404705882353, 102.67999999999999, 'gini = 0.0\\nsamples = 25\\nvalue = [0, 25]'),\n",
       " Text(308.016, 102.67999999999999, 'X[8] <= 0.5\\ngini = 0.278\\nsamples = 210\\nvalue = [35, 175]'),\n",
       " Text(304.07717647058826, 90.6, 'X[11] <= 954.0\\ngini = 0.234\\nsamples = 148\\nvalue = [20, 128]'),\n",
       " Text(301.71388235294114, 78.52000000000001, 'X[11] <= 858.0\\ngini = 0.346\\nsamples = 54\\nvalue = [12, 42]'),\n",
       " Text(300.13835294117644, 66.44, 'X[5] <= 313.0\\ngini = 0.083\\nsamples = 23\\nvalue = [1, 22]'),\n",
       " Text(299.3505882352941, 54.359999999999985, 'gini = 0.18\\nsamples = 10\\nvalue = [1, 9]'),\n",
       " Text(300.9261176470588, 54.359999999999985, 'gini = 0.0\\nsamples = 13\\nvalue = [0, 13]'),\n",
       " Text(303.2894117647059, 66.44, 'X[1] <= 6.5\\ngini = 0.458\\nsamples = 31\\nvalue = [11, 20]'),\n",
       " Text(302.50164705882355, 54.359999999999985, 'X[11] <= 911.5\\ngini = 0.495\\nsamples = 20\\nvalue = [9, 11]'),\n",
       " Text(301.71388235294114, 42.28, 'gini = 0.5\\nsamples = 10\\nvalue = [5, 5]'),\n",
       " Text(303.2894117647059, 42.28, 'gini = 0.48\\nsamples = 10\\nvalue = [4, 6]'),\n",
       " Text(304.07717647058826, 54.359999999999985, 'gini = 0.298\\nsamples = 11\\nvalue = [2, 9]'),\n",
       " Text(306.4404705882353, 78.52000000000001, 'X[15] <= 1.5\\ngini = 0.156\\nsamples = 94\\nvalue = [8, 86]'),\n",
       " Text(305.65270588235296, 66.44, 'gini = 0.42\\nsamples = 10\\nvalue = [3, 7]'),\n",
       " Text(307.22823529411767, 66.44, 'X[1] <= 8.5\\ngini = 0.112\\nsamples = 84\\nvalue = [5, 79]'),\n",
       " Text(305.65270588235296, 54.359999999999985, 'X[0] <= 34.5\\ngini = 0.062\\nsamples = 62\\nvalue = [2, 60]'),\n",
       " Text(304.8649411764706, 42.28, 'X[11] <= 1199.0\\ngini = 0.142\\nsamples = 26\\nvalue = [2, 24]'),\n",
       " Text(304.07717647058826, 30.19999999999999, 'gini = 0.0\\nsamples = 13\\nvalue = [0, 13]'),\n",
       " Text(305.65270588235296, 30.19999999999999, 'gini = 0.26\\nsamples = 13\\nvalue = [2, 11]'),\n",
       " Text(306.4404705882353, 42.28, 'gini = 0.0\\nsamples = 36\\nvalue = [0, 36]'),\n",
       " Text(308.8037647058824, 54.359999999999985, 'X[11] <= 1238.5\\ngini = 0.236\\nsamples = 22\\nvalue = [3, 19]'),\n",
       " Text(308.016, 42.28, 'gini = 0.153\\nsamples = 12\\nvalue = [1, 11]'),\n",
       " Text(309.5915294117647, 42.28, 'gini = 0.32\\nsamples = 10\\nvalue = [2, 8]'),\n",
       " Text(311.9548235294118, 90.6, 'X[12] <= 2.5\\ngini = 0.367\\nsamples = 62\\nvalue = [15, 47]'),\n",
       " Text(310.3792941176471, 78.52000000000001, 'X[11] <= 995.0\\ngini = 0.26\\nsamples = 39\\nvalue = [6, 33]'),\n",
       " Text(309.5915294117647, 66.44, 'gini = 0.117\\nsamples = 16\\nvalue = [1, 15]'),\n",
       " Text(311.16705882352943, 66.44, 'X[11] <= 1241.5\\ngini = 0.34\\nsamples = 23\\nvalue = [5, 18]'),\n",
       " Text(310.3792941176471, 54.359999999999985, 'gini = 0.426\\nsamples = 13\\nvalue = [4, 9]'),\n",
       " Text(311.9548235294118, 54.359999999999985, 'gini = 0.18\\nsamples = 10\\nvalue = [1, 9]'),\n",
       " Text(313.5303529411765, 78.52000000000001, 'X[9] <= 17.0\\ngini = 0.476\\nsamples = 23\\nvalue = [9, 14]'),\n",
       " Text(312.74258823529414, 66.44, 'gini = 0.48\\nsamples = 10\\nvalue = [6, 4]'),\n",
       " Text(314.31811764705884, 66.44, 'gini = 0.355\\nsamples = 13\\nvalue = [3, 10]'),\n",
       " Text(323.2789411764706, 114.75999999999999, 'X[11] <= 1018.5\\ngini = 0.171\\nsamples = 392\\nvalue = [37, 355]'),\n",
       " Text(318.2569411764706, 102.67999999999999, 'X[0] <= 55.5\\ngini = 0.104\\nsamples = 182\\nvalue = [10, 172]'),\n",
       " Text(316.6814117647059, 90.6, 'X[2] <= 0.5\\ngini = 0.064\\nsamples = 152\\nvalue = [5, 147]'),\n",
       " Text(315.89364705882355, 78.52000000000001, 'gini = 0.245\\nsamples = 14\\nvalue = [2, 12]'),\n",
       " Text(317.46917647058825, 78.52000000000001, 'X[0] <= 31.5\\ngini = 0.043\\nsamples = 138\\nvalue = [3, 135]'),\n",
       " Text(315.89364705882355, 66.44, 'X[3] <= 1.5\\ngini = 0.128\\nsamples = 29\\nvalue = [2, 27]'),\n",
       " Text(315.1058823529412, 54.359999999999985, 'gini = 0.245\\nsamples = 14\\nvalue = [2, 12]'),\n",
       " Text(316.6814117647059, 54.359999999999985, 'gini = 0.0\\nsamples = 15\\nvalue = [0, 15]'),\n",
       " Text(319.04470588235296, 66.44, 'X[9] <= 27.0\\ngini = 0.018\\nsamples = 109\\nvalue = [1, 108]'),\n",
       " Text(318.2569411764706, 54.359999999999985, 'gini = 0.0\\nsamples = 91\\nvalue = [0, 91]'),\n",
       " Text(319.8324705882353, 54.359999999999985, 'gini = 0.105\\nsamples = 18\\nvalue = [1, 17]'),\n",
       " Text(319.8324705882353, 90.6, 'X[0] <= 59.5\\ngini = 0.278\\nsamples = 30\\nvalue = [5, 25]'),\n",
       " Text(319.04470588235296, 78.52000000000001, 'gini = 0.375\\nsamples = 16\\nvalue = [4, 12]'),\n",
       " Text(320.62023529411766, 78.52000000000001, 'gini = 0.133\\nsamples = 14\\nvalue = [1, 13]'),\n",
       " Text(328.3009411764706, 102.67999999999999, 'X[11] <= 1209.5\\ngini = 0.224\\nsamples = 210\\nvalue = [27, 183]'),\n",
       " Text(325.7407058823529, 90.6, 'X[11] <= 1142.5\\ngini = 0.315\\nsamples = 92\\nvalue = [18, 74]'),\n",
       " Text(323.7712941176471, 78.52000000000001, 'X[12] <= 1.5\\ngini = 0.208\\nsamples = 68\\nvalue = [8, 60]'),\n",
       " Text(322.19576470588237, 66.44, 'X[9] <= 13.5\\ngini = 0.342\\nsamples = 32\\nvalue = [7, 25]'),\n",
       " Text(321.408, 54.359999999999985, 'gini = 0.459\\nsamples = 14\\nvalue = [5, 9]'),\n",
       " Text(322.9835294117647, 54.359999999999985, 'gini = 0.198\\nsamples = 18\\nvalue = [2, 16]'),\n",
       " Text(325.3468235294118, 66.44, 'X[11] <= 1058.0\\ngini = 0.054\\nsamples = 36\\nvalue = [1, 35]'),\n",
       " Text(324.5590588235294, 54.359999999999985, 'gini = 0.18\\nsamples = 10\\nvalue = [1, 9]'),\n",
       " Text(326.13458823529413, 54.359999999999985, 'gini = 0.0\\nsamples = 26\\nvalue = [0, 26]'),\n",
       " Text(327.71011764705884, 78.52000000000001, 'X[11] <= 1172.0\\ngini = 0.486\\nsamples = 24\\nvalue = [10, 14]'),\n",
       " Text(326.9223529411765, 66.44, 'gini = 0.473\\nsamples = 13\\nvalue = [8, 5]'),\n",
       " Text(328.4978823529412, 66.44, 'gini = 0.298\\nsamples = 11\\nvalue = [2, 9]'),\n",
       " Text(330.86117647058825, 90.6, 'X[1] <= 0.5\\ngini = 0.141\\nsamples = 118\\nvalue = [9, 109]'),\n",
       " Text(330.0734117647059, 78.52000000000001, 'gini = 0.397\\nsamples = 11\\nvalue = [3, 8]'),\n",
       " Text(331.6489411764706, 78.52000000000001, 'X[1] <= 5.5\\ngini = 0.106\\nsamples = 107\\nvalue = [6, 101]'),\n",
       " Text(330.0734117647059, 66.44, 'X[10] <= 8.5\\ngini = 0.029\\nsamples = 68\\nvalue = [1, 67]'),\n",
       " Text(329.28564705882354, 54.359999999999985, 'gini = 0.0\\nsamples = 57\\nvalue = [0, 57]'),\n",
       " Text(330.86117647058825, 54.359999999999985, 'gini = 0.165\\nsamples = 11\\nvalue = [1, 10]'),\n",
       " Text(333.2244705882353, 66.44, 'X[0] <= 39.5\\ngini = 0.224\\nsamples = 39\\nvalue = [5, 34]'),\n",
       " Text(332.43670588235295, 54.359999999999985, 'X[5] <= 1321.5\\ngini = 0.077\\nsamples = 25\\nvalue = [1, 24]'),\n",
       " Text(331.6489411764706, 42.28, 'gini = 0.18\\nsamples = 10\\nvalue = [1, 9]'),\n",
       " Text(333.2244705882353, 42.28, 'gini = 0.0\\nsamples = 15\\nvalue = [0, 15]'),\n",
       " Text(334.01223529411766, 54.359999999999985, 'gini = 0.408\\nsamples = 14\\nvalue = [4, 10]'),\n",
       " Text(316.8291176470588, 151.0, 'X[15] <= 1.5\\ngini = 0.383\\nsamples = 31\\nvalue = [8, 23]'),\n",
       " Text(316.04135294117646, 138.92000000000002, 'gini = 0.488\\nsamples = 19\\nvalue = [8, 11]'),\n",
       " Text(317.61688235294116, 138.92000000000002, 'gini = 0.0\\nsamples = 12\\nvalue = [0, 12]')]"
      ]
     },
     "execution_count": 20,
     "metadata": {},
     "output_type": "execute_result"
    },
    {
     "data": {
      "image/png": "[encoded data removed]",
      "text/plain": [
       "<Figure size 432x288 with 1 Axes>"
      ]
     },
     "metadata": {
      "needs_background": "light"
     },
     "output_type": "display_data"
    }
   ],
   "source": [
    "tree.plot_tree(dt3)"
   ]
  },
  {
   "cell_type": "code",
   "execution_count": 21,
   "metadata": {},
   "outputs": [
    {
     "data": {
      "text/plain": [
       "array([0.05336654, 0.01303261, 0.0077285 , 0.00210085, 0.        ,\n",
       "       0.04270317, 0.05931803, 0.00252844, 0.08722999, 0.05559478,\n",
       "       0.10522118, 0.43715901, 0.00725589, 0.04737177, 0.03003675,\n",
       "       0.04935248])"
      ]
     },
     "execution_count": 21,
     "metadata": {},
     "output_type": "execute_result"
    }
   ],
   "source": [
    "dt3.feature_importances_"
   ]
  },
  {
   "cell_type": "code",
   "execution_count": 22,
   "metadata": {},
   "outputs": [],
   "source": [
    "from sklearn.ensemble import VotingClassifier"
   ]
  },
  {
   "cell_type": "code",
   "execution_count": 23,
   "metadata": {},
   "outputs": [],
   "source": [
    "lr = LogisticRegression()\n",
    "dt1 = DecisionTreeClassifier()\n",
    "dt2 = DecisionTreeClassifier(criterion=\"entropy\")"
   ]
  },
  {
   "cell_type": "code",
   "execution_count": 24,
   "metadata": {},
   "outputs": [],
   "source": [
    "model_list = [('m1',lr),('m2',dt1),('m3',dt2)]"
   ]
  },
  {
   "cell_type": "code",
   "execution_count": 25,
   "metadata": {},
   "outputs": [],
   "source": [
    "vc = VotingClassifier(estimators=model_list)"
   ]
  },
  {
   "cell_type": "code",
   "execution_count": 26,
   "metadata": {},
   "outputs": [
    {
     "name": "stdout",
     "output_type": "stream",
     "text": [
      "              precision    recall  f1-score   support\n",
      "\n",
      "           0       0.83      0.83      0.83      1760\n",
      "           1       0.81      0.82      0.81      1589\n",
      "\n",
      "    accuracy                           0.82      3349\n",
      "   macro avg       0.82      0.82      0.82      3349\n",
      "weighted avg       0.82      0.82      0.82      3349\n",
      "\n"
     ]
    },
    {
     "data": {
      "text/plain": [
       "VotingClassifier(estimators=[('m1',\n",
       "                              LogisticRegression(C=1.0, class_weight=None,\n",
       "                                                 dual=False, fit_intercept=True,\n",
       "                                                 intercept_scaling=1,\n",
       "                                                 l1_ratio=None, max_iter=100,\n",
       "                                                 multi_class='warn',\n",
       "                                                 n_jobs=None, penalty='l2',\n",
       "                                                 random_state=None,\n",
       "                                                 solver='warn', tol=0.0001,\n",
       "                                                 verbose=0, warm_start=False)),\n",
       "                             ('m2',\n",
       "                              DecisionTreeClassifier(class_weight=None,\n",
       "                                                     criterion='gini',\n",
       "                                                     max_depth=None,...\n",
       "                             ('m3',\n",
       "                              DecisionTreeClassifier(class_weight=None,\n",
       "                                                     criterion='entropy',\n",
       "                                                     max_depth=None,\n",
       "                                                     max_features=None,\n",
       "                                                     max_leaf_nodes=None,\n",
       "                                                     min_impurity_decrease=0.0,\n",
       "                                                     min_impurity_split=None,\n",
       "                                                     min_samples_leaf=1,\n",
       "                                                     min_samples_split=2,\n",
       "                                                     min_weight_fraction_leaf=0.0,\n",
       "                                                     presort=False,\n",
       "                                                     random_state=None,\n",
       "                                                     splitter='best'))],\n",
       "                 flatten_transform=True, n_jobs=None, voting='hard',\n",
       "                 weights=None)"
      ]
     },
     "execution_count": 26,
     "metadata": {},
     "output_type": "execute_result"
    }
   ],
   "source": [
    "classify(vc)"
   ]
  },
  {
   "cell_type": "code",
   "execution_count": 27,
   "metadata": {},
   "outputs": [],
   "source": [
    "vc2 =  VotingClassifier(estimators=model_list,voting=\"soft\")"
   ]
  },
  {
   "cell_type": "code",
   "execution_count": 28,
   "metadata": {},
   "outputs": [
    {
     "name": "stdout",
     "output_type": "stream",
     "text": [
      "              precision    recall  f1-score   support\n",
      "\n",
      "           0       0.83      0.83      0.83      1760\n",
      "           1       0.81      0.81      0.81      1589\n",
      "\n",
      "    accuracy                           0.82      3349\n",
      "   macro avg       0.82      0.82      0.82      3349\n",
      "weighted avg       0.82      0.82      0.82      3349\n",
      "\n"
     ]
    },
    {
     "data": {
      "text/plain": [
       "VotingClassifier(estimators=[('m1',\n",
       "                              LogisticRegression(C=1.0, class_weight=None,\n",
       "                                                 dual=False, fit_intercept=True,\n",
       "                                                 intercept_scaling=1,\n",
       "                                                 l1_ratio=None, max_iter=100,\n",
       "                                                 multi_class='warn',\n",
       "                                                 n_jobs=None, penalty='l2',\n",
       "                                                 random_state=None,\n",
       "                                                 solver='warn', tol=0.0001,\n",
       "                                                 verbose=0, warm_start=False)),\n",
       "                             ('m2',\n",
       "                              DecisionTreeClassifier(class_weight=None,\n",
       "                                                     criterion='gini',\n",
       "                                                     max_depth=None,...\n",
       "                             ('m3',\n",
       "                              DecisionTreeClassifier(class_weight=None,\n",
       "                                                     criterion='entropy',\n",
       "                                                     max_depth=None,\n",
       "                                                     max_features=None,\n",
       "                                                     max_leaf_nodes=None,\n",
       "                                                     min_impurity_decrease=0.0,\n",
       "                                                     min_impurity_split=None,\n",
       "                                                     min_samples_leaf=1,\n",
       "                                                     min_samples_split=2,\n",
       "                                                     min_weight_fraction_leaf=0.0,\n",
       "                                                     presort=False,\n",
       "                                                     random_state=None,\n",
       "                                                     splitter='best'))],\n",
       "                 flatten_transform=True, n_jobs=None, voting='soft',\n",
       "                 weights=None)"
      ]
     },
     "execution_count": 28,
     "metadata": {},
     "output_type": "execute_result"
    }
   ],
   "source": [
    "classify(vc2)"
   ]
  },
  {
   "cell_type": "code",
   "execution_count": 29,
   "metadata": {},
   "outputs": [],
   "source": [
    "from sklearn.ensemble import BaggingClassifier"
   ]
  },
  {
   "cell_type": "code",
   "execution_count": 30,
   "metadata": {},
   "outputs": [],
   "source": [
    "bg = BaggingClassifier(lr,n_estimators=5,max_samples=100,random_state=1) # n_esti - no. of times lr, max_sampl = each sample contains value"
   ]
  },
  {
   "cell_type": "code",
   "execution_count": 31,
   "metadata": {},
   "outputs": [
    {
     "name": "stdout",
     "output_type": "stream",
     "text": [
      "              precision    recall  f1-score   support\n",
      "\n",
      "           0       0.78      0.83      0.80      1760\n",
      "           1       0.80      0.74      0.77      1589\n",
      "\n",
      "    accuracy                           0.79      3349\n",
      "   macro avg       0.79      0.79      0.79      3349\n",
      "weighted avg       0.79      0.79      0.79      3349\n",
      "\n"
     ]
    },
    {
     "data": {
      "text/plain": [
       "BaggingClassifier(base_estimator=LogisticRegression(C=1.0, class_weight=None,\n",
       "                                                    dual=False,\n",
       "                                                    fit_intercept=True,\n",
       "                                                    intercept_scaling=1,\n",
       "                                                    l1_ratio=None, max_iter=100,\n",
       "                                                    multi_class='warn',\n",
       "                                                    n_jobs=None, penalty='l2',\n",
       "                                                    random_state=None,\n",
       "                                                    solver='warn', tol=0.0001,\n",
       "                                                    verbose=0,\n",
       "                                                    warm_start=False),\n",
       "                  bootstrap=True, bootstrap_features=False, max_features=1.0,\n",
       "                  max_samples=100, n_estimators=5, n_jobs=None, oob_score=False,\n",
       "                  random_state=1, verbose=0, warm_start=False)"
      ]
     },
     "execution_count": 31,
     "metadata": {},
     "output_type": "execute_result"
    }
   ],
   "source": [
    "classify(bg)"
   ]
  },
  {
   "cell_type": "code",
   "execution_count": 32,
   "metadata": {},
   "outputs": [],
   "source": [
    "paste = BaggingClassifier(lr,n_estimators=5,max_samples=100,random_state=1,bootstrap=False) # n_esti - no. of times lr, max_sampl = each sample contains value"
   ]
  },
  {
   "cell_type": "code",
   "execution_count": 33,
   "metadata": {},
   "outputs": [
    {
     "name": "stdout",
     "output_type": "stream",
     "text": [
      "              precision    recall  f1-score   support\n",
      "\n",
      "           0       0.76      0.84      0.79      1760\n",
      "           1       0.79      0.70      0.75      1589\n",
      "\n",
      "    accuracy                           0.77      3349\n",
      "   macro avg       0.78      0.77      0.77      3349\n",
      "weighted avg       0.78      0.77      0.77      3349\n",
      "\n"
     ]
    },
    {
     "data": {
      "text/plain": [
       "BaggingClassifier(base_estimator=LogisticRegression(C=1.0, class_weight=None,\n",
       "                                                    dual=False,\n",
       "                                                    fit_intercept=True,\n",
       "                                                    intercept_scaling=1,\n",
       "                                                    l1_ratio=None, max_iter=100,\n",
       "                                                    multi_class='warn',\n",
       "                                                    n_jobs=None, penalty='l2',\n",
       "                                                    random_state=None,\n",
       "                                                    solver='warn', tol=0.0001,\n",
       "                                                    verbose=0,\n",
       "                                                    warm_start=False),\n",
       "                  bootstrap=False, bootstrap_features=False, max_features=1.0,\n",
       "                  max_samples=100, n_estimators=5, n_jobs=None, oob_score=False,\n",
       "                  random_state=1, verbose=0, warm_start=False)"
      ]
     },
     "execution_count": 33,
     "metadata": {},
     "output_type": "execute_result"
    }
   ],
   "source": [
    "classify(paste)"
   ]
  },
  {
   "cell_type": "code",
   "execution_count": 34,
   "metadata": {},
   "outputs": [],
   "source": [
    "from sklearn.ensemble import RandomForestClassifier"
   ]
  },
  {
   "cell_type": "code",
   "execution_count": 36,
   "metadata": {},
   "outputs": [],
   "source": [
    "rf = RandomForestClassifier(n_estimators=10,max_features=10,random_state=1)"
   ]
  },
  {
   "cell_type": "code",
   "execution_count": 37,
   "metadata": {},
   "outputs": [
    {
     "name": "stdout",
     "output_type": "stream",
     "text": [
      "              precision    recall  f1-score   support\n",
      "\n",
      "           0       0.84      0.83      0.84      1760\n",
      "           1       0.82      0.83      0.82      1589\n",
      "\n",
      "    accuracy                           0.83      3349\n",
      "   macro avg       0.83      0.83      0.83      3349\n",
      "weighted avg       0.83      0.83      0.83      3349\n",
      "\n"
     ]
    },
    {
     "data": {
      "text/plain": [
       "RandomForestClassifier(bootstrap=True, class_weight=None, criterion='gini',\n",
       "                       max_depth=None, max_features=10, max_leaf_nodes=None,\n",
       "                       min_impurity_decrease=0.0, min_impurity_split=None,\n",
       "                       min_samples_leaf=1, min_samples_split=2,\n",
       "                       min_weight_fraction_leaf=0.0, n_estimators=10,\n",
       "                       n_jobs=None, oob_score=False, random_state=1, verbose=0,\n",
       "                       warm_start=False)"
      ]
     },
     "execution_count": 37,
     "metadata": {},
     "output_type": "execute_result"
    }
   ],
   "source": [
    "classify(rf)"
   ]
  },
  {
   "cell_type": "code",
   "execution_count": null,
   "metadata": {},
   "outputs": [],
   "source": [
    "#Stacking"
   ]
  },
  {
   "cell_type": "code",
   "execution_count": 39,
   "metadata": {},
   "outputs": [
    {
     "name": "stdout",
     "output_type": "stream",
     "text": [
      "Collecting mlxtend\n",
      "  Downloading https://files.pythonhosted.org/packages/52/04/c362f34f666f0ddc7cf593805e64d64fa670ed96fd9302e68549dd48287d/mlxtend-0.17.0-py2.py3-none-any.whl (1.3MB)\n",
      "Requirement already satisfied: joblib>=0.13.2 in c:\\users\\user-09\\appdata\\local\\continuum\\anaconda3\\lib\\site-packages (from mlxtend) (0.13.2)\n",
      "Requirement already satisfied: setuptools in c:\\users\\user-09\\appdata\\local\\continuum\\anaconda3\\lib\\site-packages (from mlxtend) (41.4.0)\n",
      "Requirement already satisfied: scipy>=1.2.1 in c:\\users\\user-09\\appdata\\local\\continuum\\anaconda3\\lib\\site-packages (from mlxtend) (1.3.1)\n",
      "Requirement already satisfied: scikit-learn>=0.20.3 in c:\\users\\user-09\\appdata\\local\\continuum\\anaconda3\\lib\\site-packages (from mlxtend) (0.21.3)\n",
      "Requirement already satisfied: numpy>=1.16.2 in c:\\users\\user-09\\appdata\\local\\continuum\\anaconda3\\lib\\site-packages (from mlxtend) (1.16.5)\n",
      "Requirement already satisfied: pandas>=0.24.2 in c:\\users\\user-09\\appdata\\local\\continuum\\anaconda3\\lib\\site-packages (from mlxtend) (0.25.1)\n",
      "Requirement already satisfied: matplotlib>=3.0.0 in c:\\users\\user-09\\appdata\\local\\continuum\\anaconda3\\lib\\site-packages (from mlxtend) (3.1.1)\n",
      "Requirement already satisfied: python-dateutil>=2.6.1 in c:\\users\\user-09\\appdata\\local\\continuum\\anaconda3\\lib\\site-packages (from pandas>=0.24.2->mlxtend) (2.8.0)\n",
      "Requirement already satisfied: pytz>=2017.2 in c:\\users\\user-09\\appdata\\local\\continuum\\anaconda3\\lib\\site-packages (from pandas>=0.24.2->mlxtend) (2019.3)\n",
      "Requirement already satisfied: cycler>=0.10 in c:\\users\\user-09\\appdata\\local\\continuum\\anaconda3\\lib\\site-packages (from matplotlib>=3.0.0->mlxtend) (0.10.0)\n",
      "Requirement already satisfied: kiwisolver>=1.0.1 in c:\\users\\user-09\\appdata\\local\\continuum\\anaconda3\\lib\\site-packages (from matplotlib>=3.0.0->mlxtend) (1.1.0)\n",
      "Requirement already satisfied: pyparsing!=2.0.4,!=2.1.2,!=2.1.6,>=2.0.1 in c:\\users\\user-09\\appdata\\local\\continuum\\anaconda3\\lib\\site-packages (from matplotlib>=3.0.0->mlxtend) (2.4.2)\n",
      "Requirement already satisfied: six>=1.5 in c:\\users\\user-09\\appdata\\local\\continuum\\anaconda3\\lib\\site-packages (from python-dateutil>=2.6.1->pandas>=0.24.2->mlxtend) (1.12.0)\n",
      "Installing collected packages: mlxtend\n",
      "Successfully installed mlxtend-0.17.0\n"
     ]
    }
   ],
   "source": [
    "!pip install mlxtend"
   ]
  },
  {
   "cell_type": "code",
   "execution_count": 40,
   "metadata": {},
   "outputs": [],
   "source": [
    "from mlxtend.classifier import StackingClassifier"
   ]
  },
  {
   "cell_type": "code",
   "execution_count": 42,
   "metadata": {},
   "outputs": [],
   "source": [
    "lr = LogisticRegression()\n",
    "dt = DecisionTreeClassifier()\n",
    "dt1 = DecisionTreeClassifier(criterion=\"entropy\")"
   ]
  },
  {
   "cell_type": "code",
   "execution_count": 43,
   "metadata": {},
   "outputs": [],
   "source": [
    "model_list =[lr,dt,dt1]"
   ]
  },
  {
   "cell_type": "code",
   "execution_count": 45,
   "metadata": {},
   "outputs": [],
   "source": [
    "meta_lr = LogisticRegression()"
   ]
  },
  {
   "cell_type": "code",
   "execution_count": 47,
   "metadata": {},
   "outputs": [],
   "source": [
    "stack = StackingClassifier(classifiers=model_list, meta_classifier=meta_lr)"
   ]
  },
  {
   "cell_type": "code",
   "execution_count": 48,
   "metadata": {},
   "outputs": [
    {
     "name": "stdout",
     "output_type": "stream",
     "text": [
      "              precision    recall  f1-score   support\n",
      "\n",
      "           0       0.88      0.74      0.80      1760\n",
      "           1       0.75      0.89      0.81      1589\n",
      "\n",
      "    accuracy                           0.81      3349\n",
      "   macro avg       0.81      0.81      0.81      3349\n",
      "weighted avg       0.82      0.81      0.81      3349\n",
      "\n"
     ]
    },
    {
     "data": {
      "text/plain": [
       "StackingClassifier(average_probas=False,\n",
       "                   classifiers=[LogisticRegression(C=1.0, class_weight=None,\n",
       "                                                   dual=False,\n",
       "                                                   fit_intercept=True,\n",
       "                                                   intercept_scaling=1,\n",
       "                                                   l1_ratio=None, max_iter=100,\n",
       "                                                   multi_class='warn',\n",
       "                                                   n_jobs=None, penalty='l2',\n",
       "                                                   random_state=None,\n",
       "                                                   solver='warn', tol=0.0001,\n",
       "                                                   verbose=0,\n",
       "                                                   warm_start=False),\n",
       "                                DecisionTreeClassifier(class_weight=None,\n",
       "                                                       criterion='gini',\n",
       "                                                       max_...\n",
       "                   meta_classifier=LogisticRegression(C=1.0, class_weight=None,\n",
       "                                                      dual=False,\n",
       "                                                      fit_intercept=True,\n",
       "                                                      intercept_scaling=1,\n",
       "                                                      l1_ratio=None,\n",
       "                                                      max_iter=100,\n",
       "                                                      multi_class='warn',\n",
       "                                                      n_jobs=None, penalty='l2',\n",
       "                                                      random_state=None,\n",
       "                                                      solver='warn', tol=0.0001,\n",
       "                                                      verbose=0,\n",
       "                                                      warm_start=False),\n",
       "                   store_train_meta_features=False, use_clones=True,\n",
       "                   use_features_in_secondary=False, use_probas=False,\n",
       "                   verbose=0)"
      ]
     },
     "execution_count": 48,
     "metadata": {},
     "output_type": "execute_result"
    }
   ],
   "source": [
    "classify(stack)"
   ]
  },
  {
   "cell_type": "code",
   "execution_count": 49,
   "metadata": {},
   "outputs": [],
   "source": [
    "from sklearn.ensemble import AdaBoostClassifier"
   ]
  },
  {
   "cell_type": "code",
   "execution_count": 50,
   "metadata": {},
   "outputs": [],
   "source": [
    "ada = AdaBoostClassifier(n_estimators =100)"
   ]
  },
  {
   "cell_type": "code",
   "execution_count": 51,
   "metadata": {},
   "outputs": [
    {
     "name": "stdout",
     "output_type": "stream",
     "text": [
      "              precision    recall  f1-score   support\n",
      "\n",
      "           0       0.83      0.86      0.84      1760\n",
      "           1       0.83      0.80      0.82      1589\n",
      "\n",
      "    accuracy                           0.83      3349\n",
      "   macro avg       0.83      0.83      0.83      3349\n",
      "weighted avg       0.83      0.83      0.83      3349\n",
      "\n"
     ]
    },
    {
     "data": {
      "text/plain": [
       "AdaBoostClassifier(algorithm='SAMME.R', base_estimator=None, learning_rate=1.0,\n",
       "                   n_estimators=100, random_state=None)"
      ]
     },
     "execution_count": 51,
     "metadata": {},
     "output_type": "execute_result"
    }
   ],
   "source": [
    "classify(ada)"
   ]
  },
  {
   "cell_type": "code",
   "execution_count": 53,
   "metadata": {},
   "outputs": [],
   "source": [
    "from sklearn.ensemble import GradientBoostingClassifier"
   ]
  },
  {
   "cell_type": "code",
   "execution_count": 54,
   "metadata": {},
   "outputs": [],
   "source": [
    "grad = GradientBoostingClassifier(n_estimators=100)"
   ]
  },
  {
   "cell_type": "code",
   "execution_count": 55,
   "metadata": {},
   "outputs": [
    {
     "name": "stdout",
     "output_type": "stream",
     "text": [
      "              precision    recall  f1-score   support\n",
      "\n",
      "           0       0.87      0.82      0.84      1760\n",
      "           1       0.81      0.86      0.83      1589\n",
      "\n",
      "    accuracy                           0.84      3349\n",
      "   macro avg       0.84      0.84      0.84      3349\n",
      "weighted avg       0.84      0.84      0.84      3349\n",
      "\n"
     ]
    },
    {
     "data": {
      "text/plain": [
       "GradientBoostingClassifier(criterion='friedman_mse', init=None,\n",
       "                           learning_rate=0.1, loss='deviance', max_depth=3,\n",
       "                           max_features=None, max_leaf_nodes=None,\n",
       "                           min_impurity_decrease=0.0, min_impurity_split=None,\n",
       "                           min_samples_leaf=1, min_samples_split=2,\n",
       "                           min_weight_fraction_leaf=0.0, n_estimators=100,\n",
       "                           n_iter_no_change=None, presort='auto',\n",
       "                           random_state=None, subsample=1.0, tol=0.0001,\n",
       "                           validation_fraction=0.1, verbose=0,\n",
       "                           warm_start=False)"
      ]
     },
     "execution_count": 55,
     "metadata": {},
     "output_type": "execute_result"
    }
   ],
   "source": [
    "classify(grad)"
   ]
  },
  {
   "cell_type": "code",
   "execution_count": 56,
   "metadata": {},
   "outputs": [
    {
     "name": "stdout",
     "output_type": "stream",
     "text": [
      "Collecting xgboost\n",
      "  Downloading https://files.pythonhosted.org/packages/5e/49/b95c037b717b4ceadc76b6e164603471225c27052d1611d5a2e832757945/xgboost-0.90-py2.py3-none-win_amd64.whl (18.3MB)\n",
      "Requirement already satisfied: scipy in c:\\users\\user-09\\appdata\\local\\continuum\\anaconda3\\lib\\site-packages (from xgboost) (1.3.1)\n",
      "Requirement already satisfied: numpy in c:\\users\\user-09\\appdata\\local\\continuum\\anaconda3\\lib\\site-packages (from xgboost) (1.16.5)\n",
      "Installing collected packages: xgboost\n",
      "Successfully installed xgboost-0.90\n"
     ]
    }
   ],
   "source": [
    "!pip install xgboost"
   ]
  },
  {
   "cell_type": "code",
   "execution_count": 57,
   "metadata": {},
   "outputs": [],
   "source": [
    "from xgboost import XGBClassifier"
   ]
  },
  {
   "cell_type": "code",
   "execution_count": 58,
   "metadata": {},
   "outputs": [],
   "source": [
    "xgb = XGBClassifier(n_estimators=100,reg_lambda=2)"
   ]
  },
  {
   "cell_type": "code",
   "execution_count": 59,
   "metadata": {},
   "outputs": [
    {
     "name": "stdout",
     "output_type": "stream",
     "text": [
      "              precision    recall  f1-score   support\n",
      "\n",
      "           0       0.87      0.82      0.84      1760\n",
      "           1       0.81      0.86      0.83      1589\n",
      "\n",
      "    accuracy                           0.84      3349\n",
      "   macro avg       0.84      0.84      0.84      3349\n",
      "weighted avg       0.84      0.84      0.84      3349\n",
      "\n"
     ]
    },
    {
     "data": {
      "text/plain": [
       "XGBClassifier(base_score=0.5, booster='gbtree', colsample_bylevel=1,\n",
       "              colsample_bynode=1, colsample_bytree=1, gamma=0,\n",
       "              learning_rate=0.1, max_delta_step=0, max_depth=3,\n",
       "              min_child_weight=1, missing=None, n_estimators=100, n_jobs=1,\n",
       "              nthread=None, objective='binary:logistic', random_state=0,\n",
       "              reg_alpha=0, reg_lambda=2, scale_pos_weight=1, seed=None,\n",
       "              silent=None, subsample=1, verbosity=1)"
      ]
     },
     "execution_count": 59,
     "metadata": {},
     "output_type": "execute_result"
    }
   ],
   "source": [
    "classify(xgb)"
   ]
  },
  {
   "cell_type": "code",
   "execution_count": 60,
   "metadata": {},
   "outputs": [],
   "source": [
    "xgb = XGBClassifier(n_estimators=100,alpha=10)"
   ]
  },
  {
   "cell_type": "code",
   "execution_count": 61,
   "metadata": {},
   "outputs": [
    {
     "name": "stdout",
     "output_type": "stream",
     "text": [
      "              precision    recall  f1-score   support\n",
      "\n",
      "           0       0.87      0.81      0.84      1760\n",
      "           1       0.81      0.86      0.83      1589\n",
      "\n",
      "    accuracy                           0.84      3349\n",
      "   macro avg       0.84      0.84      0.84      3349\n",
      "weighted avg       0.84      0.84      0.84      3349\n",
      "\n"
     ]
    },
    {
     "data": {
      "text/plain": [
       "XGBClassifier(alpha=10, base_score=0.5, booster='gbtree', colsample_bylevel=1,\n",
       "              colsample_bynode=1, colsample_bytree=1, gamma=0,\n",
       "              learning_rate=0.1, max_delta_step=0, max_depth=3,\n",
       "              min_child_weight=1, missing=None, n_estimators=100, n_jobs=1,\n",
       "              nthread=None, objective='binary:logistic', random_state=0,\n",
       "              reg_alpha=0, reg_lambda=1, scale_pos_weight=1, seed=None,\n",
       "              silent=None, subsample=1, verbosity=1)"
      ]
     },
     "execution_count": 61,
     "metadata": {},
     "output_type": "execute_result"
    }
   ],
   "source": [
    "classify(xgb)"
   ]
  },
  {
   "cell_type": "code",
   "execution_count": 62,
   "metadata": {},
   "outputs": [],
   "source": [
    "from sklearn.svm import LinearSVC"
   ]
  },
  {
   "cell_type": "code",
   "execution_count": null,
   "metadata": {},
   "outputs": [],
   "source": []
  }
 ],
 "metadata": {
  "kernelspec": {
   "display_name": "Python 3",
   "language": "python",
   "name": "python3"
  },
  "language_info": {
   "codemirror_mode": {
    "name": "ipython",
    "version": 3
   },
   "file_extension": ".py",
   "mimetype": "text/x-python",
   "name": "python",
   "nbconvert_exporter": "python",
   "pygments_lexer": "ipython3",
   "version": "3.7.4"
  }
 },
 "nbformat": 4,
 "nbformat_minor": 2
}
